{
 "cells": [
  {
   "cell_type": "markdown",
   "id": "da877d12",
   "metadata": {},
   "source": [
    "# FlatProt: Automated Disulfide Bond Detection\n",
    "\n",
    "**Automatically detect and visualize disulfide bonds across protein families!**\n",
    "\n",
    "This example shows how to:\n",
    "1. Analyze multiple protein structures automatically\n",
    "2. Find disulfide bonds using structural geometry\n",
    "3. Generate annotation files programmatically\n",
    "4. Create publication-quality visualizations"
   ]
  },
  {
   "cell_type": "markdown",
   "id": "de2393d5",
   "metadata": {},
   "source": [
    "## 🔧 Setup"
   ]
  },
  {
   "cell_type": "code",
   "execution_count": null,
   "id": "ef0ea767",
   "metadata": {},
   "outputs": [],
   "source": [
    "import sys\n",
    "from pathlib import Path\n",
    "\n",
    "def setup_paths():\n",
    "    \"\"\"Setup correct paths for both Colab and local environments.\"\"\"\n",
    "    if \"google.colab\" in sys.modules:\n",
    "        # Colab: Stay in /content/, data will be at /content/data/\n",
    "        return \"data/\", \"tmp/\"\n",
    "    else:\n",
    "        # Local: Check if we're in examples/ directory and adjust\n",
    "        current_dir = Path.cwd()\n",
    "        if current_dir.name == \"examples\":\n",
    "            # We're in examples/, need to go up one level for data access\n",
    "            project_root = current_dir.parent\n",
    "            return str(project_root / \"data\") + \"/\", str(project_root / \"tmp\") + \"/\"\n",
    "        else:\n",
    "            # Already in project root\n",
    "            return \"data/\", \"tmp/\"\n",
    "\n",
    "if \"google.colab\" in sys.modules:\n",
    "    !wget -q https://raw.githubusercontent.com/t03i/FlatProt/main/examples/colab_setup.py\n",
    "    import colab_setup\n",
    "    colab_setup.setup_colab_environment()\n",
    "\n",
    "# Get correct paths for this environment\n",
    "data_path, tmp_path = setup_paths()\n",
    "print(f\"📁 Data path: {data_path}\")\n",
    "print(f\"📁 Output path: {tmp_path}\")"
   ]
  },
  {
   "cell_type": "code",
   "execution_count": null,
   "id": "49c1bf83",
   "metadata": {
    "lines_to_next_cell": 1
   },
   "outputs": [],
   "source": [
    "# Imports for structure analysis\n",
    "import numpy as np\n",
    "import gemmi\n",
    "\n",
    "print(\"✅ Ready to analyze disulfide bonds!\")"
   ]
  },
  {
   "cell_type": "markdown",
   "id": "136b0839",
   "metadata": {},
   "source": [
    "## 🧬 Automated Disulfide Bond Detection\n",
    "\n",
    "Let's analyze all three-finger toxin structures automatically:"
   ]
  },
  {
   "cell_type": "code",
   "execution_count": null,
   "id": "c5bb8fdb",
   "metadata": {
    "lines_to_next_cell": 1
   },
   "outputs": [],
   "source": [
    "def find_disulfide_bonds(structure_path):\n",
    "    \"\"\"Find disulfide bonds in a protein structure.\"\"\"\n",
    "    print(f\"🔍 Analyzing {Path(structure_path).name}...\")\n",
    "\n",
    "    # Load structure\n",
    "    structure = gemmi.read_structure(str(structure_path))\n",
    "\n",
    "    # Find all cysteine sulfur atoms\n",
    "    cysteines = []\n",
    "    for model in structure:\n",
    "        for chain in model:\n",
    "            for residue in chain:\n",
    "                if residue.name == \"CYS\":\n",
    "                    for atom in residue:\n",
    "                        if atom.name == \"SG\":  # Sulfur atom\n",
    "                            res_num = int(residue.seqid.num)\n",
    "                            chain_id = str(chain.name)\n",
    "                            position = np.array(atom.pos.tolist())\n",
    "                            cysteines.append((res_num, chain_id, position))\n",
    "                            break\n",
    "\n",
    "    # Find close pairs (disulfide bonds)\n",
    "    bonds = []\n",
    "    for i in range(len(cysteines)):\n",
    "        for j in range(i + 1, len(cysteines)):\n",
    "            res1, chain1, pos1 = cysteines[i]\n",
    "            res2, chain2, pos2 = cysteines[j]\n",
    "\n",
    "            distance = np.linalg.norm(pos1 - pos2)\n",
    "            if distance <= 2.3:  # Typical S-S bond distance\n",
    "                bonds.append((res1, chain1, res2, chain2))\n",
    "                print(f\"  💚 Found bond: {chain1}:{res1} ↔ {chain2}:{res2} ({distance:.1f}Å)\")\n",
    "\n",
    "    return bonds\n",
    "\n",
    "# Analyze all toxin structures\n",
    "!mkdir -p \"{tmp_path}disulfide\"\n",
    "\n",
    "structures = [\"cobra.cif\", \"krait.cif\", \"snake.cif\"]\n",
    "all_bonds = {}\n",
    "\n",
    "for structure in structures:\n",
    "    structure_path = f\"{data_path}3Ftx/{structure}\"\n",
    "    bonds = find_disulfide_bonds(structure_path)\n",
    "    all_bonds[structure] = bonds\n",
    "    print(f\"🎯 {structure}: Found {len(bonds)} disulfide bonds!\")\n",
    "    print()\n",
    "\n",
    "print(f\"✅ Analyzed {len(structures)} structures!\")"
   ]
  },
  {
   "cell_type": "markdown",
   "id": "f980a816",
   "metadata": {},
   "source": [
    "## 📝 Generate Annotation Files\n",
    "\n",
    "Automatically create TOML annotation files for all structures:"
   ]
  },
  {
   "cell_type": "code",
   "execution_count": null,
   "id": "820c2ed0",
   "metadata": {},
   "outputs": [],
   "source": [
    "def write_disulfide_annotations(structure_name, bonds, output_file):\n",
    "    \"\"\"Write disulfide bond annotations to a TOML file.\"\"\"\n",
    "    with open(output_file, 'w') as f:\n",
    "        f.write(f\"# Disulfide bond annotations for {structure_name}\\n\")\n",
    "        f.write(\"# Generated automatically by FlatProt\\n\\n\")\n",
    "\n",
    "        for i, (res1, chain1, res2, chain2) in enumerate(bonds):\n",
    "            f.write(\"[[annotations]]\\n\")\n",
    "            f.write(\"type = \\\"line\\\"\\n\")\n",
    "            f.write(f\"indices = [\\\"{chain1}:{res1}\\\", \\\"{chain2}:{res2}\\\"]\\n\")\n",
    "            f.write(\"[annotations.style]\\n\")\n",
    "            f.write(\"line_color = \\\"#32CD32\\\"     # Lime green\\\\n\")\n",
    "            f.write(\"stroke_width = 2.0\\n\")\n",
    "            f.write(\"line_style = [4, 2]        # Dashed line\\n\")\n",
    "            f.write(\"connector_radius = 0.5\\n\\n\")\n",
    "\n",
    "    print(f\"📝 Created {output_file} with {len(bonds)} disulfide bonds\")\n",
    "\n",
    "# Create annotation files for all structures\n",
    "for structure in structures:\n",
    "    if all_bonds[structure]:  # Only if bonds were found\n",
    "        base_name = structure.replace(\".cif\", \"\")\n",
    "        annotation_file = f\"{tmp_path}disulfide/{base_name}_disulfide.toml\"\n",
    "        write_disulfide_annotations(structure, all_bonds[structure], annotation_file)"
   ]
  },
  {
   "cell_type": "markdown",
   "id": "ae8ac2b3",
   "metadata": {
    "lines_to_next_cell": 0
   },
   "source": [
    "## 🎯 Align Structures for Consistent Orientation\n",
    "\n",
    "First align all structures to ensure comparable visualizations:\n",
    "*Note: The first time you run this, it will take a while to download the database.*"
   ]
  },
  {
   "cell_type": "code",
   "execution_count": null,
   "id": "99b8e88d",
   "metadata": {},
   "outputs": [],
   "source": [
    "# Align all structures to reference database\n",
    "print(\"🔄 Aligning structures for consistent orientation...\")\n",
    "for structure in structures:\n",
    "    if all_bonds[structure]:  # Only if bonds were found\n",
    "        base_name = structure.replace(\".cif\", \"\")\n",
    "        input_file = f\"{data_path}3Ftx/{structure}\"\n",
    "        matrix_file = f\"{tmp_path}disulfide/{base_name}_matrix.npy\"\n",
    "        info_file = f\"{tmp_path}disulfide/{base_name}_info.json\"\n",
    "\n",
    "        !uv run flatprot align \"{input_file}\" \"{matrix_file}\" \"{info_file}\" --min-probability 0.5 --quiet\n",
    "        print(f\"✅ Aligned {base_name}\")\n",
    "\n",
    "print(\"\\n🎯 All structures aligned!\")"
   ]
  },
  {
   "cell_type": "markdown",
   "id": "cc4b4242",
   "metadata": {},
   "source": [
    "## 🎨 Create Aligned Projections with Disulfide Bonds\n",
    "\n",
    "Generate visualizations using alignment matrices for consistent orientation:"
   ]
  },
  {
   "cell_type": "code",
   "execution_count": null,
   "id": "7640b39d",
   "metadata": {},
   "outputs": [],
   "source": [
    "# Create aligned projections for all structures with disulfide bonds\n",
    "for structure in structures:\n",
    "    if all_bonds[structure]:  # Only if bonds were found\n",
    "        base_name = structure.replace(\".cif\", \"\")\n",
    "        input_file = f\"{data_path}3Ftx/{structure}\"\n",
    "        output_file = f\"{tmp_path}disulfide/{base_name}_disulfide.svg\"\n",
    "        annotation_file = f\"{tmp_path}disulfide/{base_name}_disulfide.toml\"\n",
    "        matrix_file = f\"{tmp_path}disulfide/{base_name}_matrix.npy\"\n",
    "\n",
    "        !uv run flatprot project \"{input_file}\" -o \"{output_file}\" --annotations \"{annotation_file}\" --matrix \"{matrix_file}\" --canvas-width 600 --canvas-height 500 --show-positions major\n",
    "\n",
    "        print(f\"🎨 Created {output_file}\")\n",
    "\n",
    "print(\"\\\\n✅ All aligned projections with disulfide bonds created!\")"
   ]
  },
  {
   "cell_type": "markdown",
   "id": "c460d707",
   "metadata": {},
   "source": [
    "## 🎉 View the Results"
   ]
  },
  {
   "cell_type": "code",
   "execution_count": null,
   "id": "9388d1bb",
   "metadata": {},
   "outputs": [],
   "source": [
    "from IPython.display import HTML, display\n",
    "\n",
    "# Display all results\n",
    "print(\"🧬 Three-Finger Toxin Family with Disulfide Bonds:\")\n",
    "print()\n",
    "\n",
    "for structure in structures:\n",
    "    if all_bonds[structure]:\n",
    "        base_name = structure.replace(\".cif\", \"\")\n",
    "        svg_file = f\"{tmp_path}disulfide/{base_name}_disulfide.svg\"\n",
    "\n",
    "        if Path(svg_file).exists():\n",
    "            print(f\"🐍 {base_name.title()} Toxin:\")\n",
    "            with open(svg_file) as f:\n",
    "                svg = f.read()\n",
    "            svg = svg.replace('<svg ', '<svg style=\"max-width: 100%; height: auto;\" ', 1)\n",
    "            display(HTML(f'<div style=\"text-align: center; margin: 20px; border: 1px solid #ddd; padding: 10px;\">{svg}</div>'))\n",
    "            print(f\"💚 {len(all_bonds[structure])} disulfide bonds highlighted\")\n",
    "            print()\n",
    "        else:\n",
    "            print(f\"❌ Could not create {base_name} projection\")\n",
    "\n",
    "print(\"🔗 Green dashed lines show stabilizing disulfide bonds\")\n",
    "print(\"🎯 Notice how all three toxins have similar disulfide patterns!\")\n",
    "print(\"🔄 All structures are consistently aligned for easy comparison\")"
   ]
  },
  {
   "cell_type": "markdown",
   "id": "474771eb",
   "metadata": {},
   "source": [
    "## 🧬 **About three-finger toxin disulfide bonds:**\n",
    "- **Conserved pattern** across cobra, krait, and snake toxins\n",
    "- **Three disulfide bonds** create the rigid three-finger structure\n",
    "- **Cysteine pairing** follows the characteristic pattern\n",
    "- **Structural stability** allows toxins to function in harsh environments\n",
    "- **Evolutionary conservation** shows functional importance"
   ]
  },
  {
   "cell_type": "markdown",
   "id": "9ee2adeb",
   "metadata": {},
   "source": [
    "## 💡 **The Power of Automation**\n",
    "\n",
    "This workflow demonstrates:\n",
    "- **Batch processing** of multiple protein structures\n",
    "- **Automated feature detection** using structural criteria\n",
    "- **Programmatic visualization** generation\n",
    "- **Reproducible analysis** for any protein family\n",
    "\n",
    "**Perfect for comparative structural biology!** 🎯✨"
   ]
  }
 ],
 "metadata": {
  "jupytext": {
   "cell_metadata_filter": "-all",
   "main_language": "python",
   "notebook_metadata_filter": "-all"
  }
 },
 "nbformat": 4,
 "nbformat_minor": 5
}
