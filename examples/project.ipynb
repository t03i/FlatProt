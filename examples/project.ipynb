{
 "cells": [
  {
   "cell_type": "markdown",
   "id": "d144eabf",
   "metadata": {},
   "source": [
    "# FlatProt: Simple Protein Projection\n",
    "\n",
    "**Create 2D protein visualizations with a single command!**\n",
    "\n",
    "This notebook shows the essence of FlatProt - everything else is just setup for Colab compatibility."
   ]
  },
  {
   "cell_type": "markdown",
   "id": "900e31c6",
   "metadata": {},
   "source": [
    "## 🔧 Setup"
   ]
  },
  {
   "cell_type": "code",
   "execution_count": null,
   "id": "f1115c6b",
   "metadata": {},
   "outputs": [],
   "source": [
    "# Quick Colab setup - skip if running locally\n",
    "import sys\n",
    "from pathlib import Path\n",
    "\n",
    "def setup_paths():\n",
    "    \"\"\"Setup correct paths for both Colab and local environments.\"\"\"\n",
    "    if \"google.colab\" in sys.modules:\n",
    "        # Colab: Stay in /content/, data will be at /content/data/\n",
    "        return \"data/\", \"tmp/\"\n",
    "    else:\n",
    "        # Local: Check if we're in examples/ directory and adjust\n",
    "        current_dir = Path.cwd()\n",
    "        if current_dir.name == \"examples\":\n",
    "            # We're in examples/, need to go up one level for data access\n",
    "            project_root = current_dir.parent\n",
    "            return str(project_root / \"data\") + \"/\", str(project_root / \"tmp\") + \"/\"\n",
    "        else:\n",
    "            # Already in project root\n",
    "            return \"data/\", \"tmp/\"\n",
    "\n",
    "if \"google.colab\" in sys.modules:\n",
    "    !wget -q https://raw.githubusercontent.com/t03i/FlatProt/main/examples/colab_setup.py\n",
    "    import colab_setup\n",
    "    colab_setup.setup_colab_environment()\n",
    "\n",
    "# Get correct paths for this environment\n",
    "data_path, tmp_path = setup_paths()\n",
    "print(f\"📁 Data path: {data_path}\")\n",
    "print(f\"📁 Output path: {tmp_path}\")"
   ]
  },
  {
   "cell_type": "markdown",
   "id": "5e1ae9bd",
   "metadata": {},
   "source": [
    "## 🎯 **This is FlatProt!**\n",
    "\n",
    "The core command is simple:\n",
    "(Note: `flatprot project` creates SVG files - perfect for Jupyter!)"
   ]
  },
  {
   "cell_type": "code",
   "execution_count": null,
   "id": "739b95ba",
   "metadata": {
    "lines_to_next_cell": 2
   },
   "outputs": [],
   "source": [
    "# Create a protein projection\n",
    "!mkdir -p \"{tmp_path}simple_projection\"\n",
    "!uv run flatprot project \"{data_path}3Ftx/cobra.cif\" -o \"{tmp_path}simple_projection/cobra.svg\" --canvas-width 500 --canvas-height 400 --show-positions major"
   ]
  },
  {
   "cell_type": "markdown",
   "id": "41935425",
   "metadata": {},
   "source": [
    "## 🎉 View the result"
   ]
  },
  {
   "cell_type": "code",
   "execution_count": null,
   "id": "f2404353",
   "metadata": {},
   "outputs": [],
   "source": [
    "from IPython.display import Image, HTML\n",
    "from pathlib import Path\n",
    "\n",
    "\n",
    "with open(f\"{tmp_path}simple_projection/cobra.svg\") as f:\n",
    "    svg = f.read()\n",
    "svg = svg.replace('<svg ', '<svg style=\"max-width: 100%; height: auto;\" ', 1)\n",
    "display(HTML(f'<div style=\"text-align: center;\">{svg}</div>'))\n",
    "\n",
    "print(\"🧬 Your cobra toxin projection!\")"
   ]
  },
  {
   "cell_type": "markdown",
   "id": "82cce1c9",
   "metadata": {},
   "source": [
    "## 🎓 What you see:\n",
    "\n",
    "- 🔴 **Red** = Alpha helices\n",
    "- 🔵 **Blue** = Beta sheets\n",
    "- ⚪ **Gray** = Loops and coils\n",
    "- **Numbers** = Residue positions\n",
    "\n",
    "**That's it!** FlatProt makes protein visualization simple. 🎯\n",
    "\n",
    "**Note:** FlatProt generates crisp SVG graphics that scale perfectly in Jupyter notebooks. For PNG output (e.g., for presentations), use `flatprot overlay` instead!"
   ]
  }
 ],
 "metadata": {
  "jupytext": {
   "cell_metadata_filter": "-all",
   "main_language": "python",
   "notebook_metadata_filter": "-all"
  }
 },
 "nbformat": 4,
 "nbformat_minor": 5
}
