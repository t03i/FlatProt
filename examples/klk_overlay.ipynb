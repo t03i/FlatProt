{
 "cells": [
  {
   "cell_type": "code",
   "execution_count": 2,
   "metadata": {},
   "outputs": [],
   "source": [
    "from pathlib import Path\n",
    "import os\n",
    "from IPython import get_ipython\n",
    "from IPython.core.magic import register_cell_magic\n",
    "\n",
    "ipython = get_ipython()\n",
    "\n",
    "\n",
    "@register_cell_magic\n",
    "def pybash(line, cell):\n",
    "    ipython.run_cell_magic(\"bash\", \"\", cell.format(**globals()))"
   ]
  },
  {
   "cell_type": "code",
   "execution_count": 3,
   "metadata": {},
   "outputs": [],
   "source": [
    "tmp_dir = Path(\"../tmp/klk_overlay\")\n",
    "data_archive = Path(\"../data/KLK.zip\")\n",
    "\n",
    "os.makedirs(tmp_dir, exist_ok=True)"
   ]
  },
  {
   "cell_type": "code",
   "execution_count": 4,
   "metadata": {},
   "outputs": [
    {
     "name": "stdout",
     "output_type": "stream",
     "text": [
      "Extracted KLK folder contents from ../data/KLK.zip to ../tmp/klk_overlay/structures\n"
     ]
    }
   ],
   "source": [
    "import zipfile\n",
    "from typing import Union\n",
    "from pathlib import Path\n",
    "\n",
    "\n",
    "def extract_klk_folder(\n",
    "    archive_path: Union[str, Path], output_dir: Union[str, Path]\n",
    ") -> None:\n",
    "    \"\"\"\n",
    "    Extract only the KLK folder from a zip archive to the specified output directory.\n",
    "    Files will be extracted directly into the output directory without the KLK folder prefix.\n",
    "\n",
    "    Parameters\n",
    "    ----------\n",
    "    archive_path : Union[str, Path]\n",
    "        Path to the zip archive file\n",
    "    output_dir : Union[str, Path]\n",
    "        Directory where the KLK files will be extracted\n",
    "\n",
    "    Returns\n",
    "    -------\n",
    "    None\n",
    "    \"\"\"\n",
    "    # Convert to Path objects if they're strings\n",
    "    archive_path = Path(archive_path)\n",
    "    output_dir = Path(output_dir)\n",
    "\n",
    "    # Create the output directory if it doesn't exist\n",
    "    output_dir.mkdir(parents=True, exist_ok=True)\n",
    "\n",
    "    # Extract only the KLK folder contents directly into output_dir\n",
    "    with zipfile.ZipFile(archive_path, \"r\") as zip_ref:\n",
    "        klk_files = [\n",
    "            f\n",
    "            for f in zip_ref.namelist()\n",
    "            if (f.startswith(\"KLK/\") and f.endswith(\".cif\"))\n",
    "        ]\n",
    "        for file in klk_files:\n",
    "            file_path = Path(file)\n",
    "            target_path = output_dir / file_path.name\n",
    "            # Extract the file content\n",
    "            with zip_ref.open(file) as source, open(target_path, \"wb\") as target:\n",
    "                target.write(source.read())\n",
    "\n",
    "    print(f\"Extracted KLK folder contents from {archive_path} to {output_dir}\")\n",
    "\n",
    "\n",
    "# Create structures directory\n",
    "structures_dir = tmp_dir / \"structures\"\n",
    "structures_dir.mkdir(exist_ok=True)\n",
    "\n",
    "# Extract only the KLK folder from the archive to the structures directory\n",
    "extract_klk_folder(data_archive, structures_dir)\n"
   ]
  },
  {
   "cell_type": "code",
   "execution_count": 7,
   "metadata": {},
   "outputs": [
    {
     "name": "stdout",
     "output_type": "stream",
     "text": [
      "^C\n"
     ]
    }
   ],
   "source": [
    "svg_dir = tmp_dir / \"svg\"\n",
    "svg_dir.mkdir(exist_ok=True)\n",
    "\n",
    "style = \"\"\"\n",
    "[helix]\n",
    "fill_color = \"#FF7D7D\"\n",
    "opacity = 0.1\n",
    "\n",
    "\n",
    "[sheet]\n",
    "fill_color = \"#7D7DFF\"\n",
    "opacity = 0.1\n",
    "\n",
    "[coil]\n",
    "stroke_color = \"#777777\" \n",
    "opacity = 0.1\n",
    "\n",
    "[canvas]\n",
    "opacity = 0.0\n",
    "width = 800\n",
    "height = 600\n",
    "\"\"\"\n",
    "\n",
    "style_file = tmp_dir / \"style.toml\"\n",
    "style_file.write_text(style)\n",
    "\n",
    "for file in structures_dir.glob(\"*.cif\"):\n",
    "    !uv run flatprot project {file} {svg_dir / file.stem}.svg --quiet --style {style_file}\n"
   ]
  },
  {
   "cell_type": "code",
   "execution_count": 8,
   "metadata": {},
   "outputs": [
    {
     "name": "stdout",
     "output_type": "stream",
     "text": [
      "Created overlay of 436 SVG files at ../tmp/klk_overlay/overlay.svg\n"
     ]
    }
   ],
   "source": [
    "import drawsvg as draw\n",
    "\n",
    "# Create a new drawing for the overlay\n",
    "overlay = draw.Drawing(800, 600)\n",
    "\n",
    "# Add each SVG to the overlay\n",
    "for svg_file in svg_dir.glob(\"*.svg\"):\n",
    "    # Read the SVG content\n",
    "    svg_content = svg_file.read_text()\n",
    "\n",
    "    # Extract the SVG elements (skip the first line which is the XML declaration)\n",
    "    svg_elements = (\n",
    "        svg_content.split(\"\\n\", 1)[1] if \"<?xml\" in svg_content else svg_content\n",
    "    )\n",
    "\n",
    "    # Add the SVG content as a group to the overlay\n",
    "    # We use a foreignObject to embed the SVG content directly\n",
    "    group = draw.Raw(svg_elements)\n",
    "    overlay.append(group)\n",
    "\n",
    "# Save the overlay SVG\n",
    "overlay_path = tmp_dir / \"overlay.svg\"\n",
    "overlay.save_svg(str(overlay_path))\n",
    "\n",
    "print(\n",
    "    f\"Created overlay of {len(list(svg_dir.glob('*.svg')))} SVG files at {overlay_path}\"\n",
    ")"
   ]
  },
  {
   "cell_type": "code",
   "execution_count": null,
   "metadata": {},
   "outputs": [],
   "source": [
    "# Copyright 2025 Tobias Olenyi.\n",
    "# SPDX-License-Identifier: Apache-2.0\n",
    "\n",
    "# Display the overlay SVG in the notebook\n",
    "from IPython.display import SVG, display\n",
    "\n",
    "# Load and display the overlay SVG\n",
    "display(SVG(str(overlay_path)))\n",
    "\n",
    "# You can also add a title before displaying the SVG\n",
    "print(\"Overlay of protein structures:\")\n"
   ]
  }
 ],
 "metadata": {
  "kernelspec": {
   "display_name": ".venv",
   "language": "python",
   "name": "python3"
  },
  "language_info": {
   "codemirror_mode": {
    "name": "ipython",
    "version": 3
   },
   "file_extension": ".py",
   "mimetype": "text/x-python",
   "name": "python",
   "nbconvert_exporter": "python",
   "pygments_lexer": "ipython3",
   "version": "3.12.9"
  }
 },
 "nbformat": 4,
 "nbformat_minor": 2
}
