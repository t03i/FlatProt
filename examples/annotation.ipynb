{
 "cells": [
  {
   "cell_type": "code",
   "execution_count": 49,
   "metadata": {},
   "outputs": [],
   "source": [
    "from pathlib import Path\n",
    "import os\n",
    "from IPython import get_ipython\n",
    "from IPython.core.magic import register_cell_magic\n",
    "\n",
    "ipython = get_ipython()\n",
    "\n",
    "\n",
    "@register_cell_magic\n",
    "def pybash(line, cell):\n",
    "    ipython.run_cell_magic(\"bash\", \"\", cell.format(**globals()))"
   ]
  },
  {
   "cell_type": "code",
   "execution_count": 50,
   "metadata": {},
   "outputs": [],
   "source": [
    "tmp_dir = Path(\"../tmp/cobra_annotation\")\n",
    "data_dir = Path(\"../data/3Ftx\")\n",
    "\n",
    "cobra_file = data_dir / \"cobra.cif\"\n",
    "cobra_annotation = tmp_dir / \"cobra_annotation.toml\"\n",
    "cobra_svg = tmp_dir / \"cobra.svg\"\n",
    "\n",
    "os.makedirs(tmp_dir, exist_ok=True)"
   ]
  },
  {
   "cell_type": "code",
   "execution_count": 51,
   "metadata": {},
   "outputs": [],
   "source": [
    "import gemmi\n",
    "from typing import List, Tuple\n",
    "import numpy as np\n",
    "\n",
    "\n",
    "def compute_cystine_bridges(structure_path: Path) -> List[Tuple[int, int]]:\n",
    "    \"\"\"\n",
    "    Compute cystine bridges from a protein structure file.\n",
    "\n",
    "    This function identifies disulfide bonds between cysteine residues\n",
    "    by analyzing the distance between sulfur atoms.\n",
    "\n",
    "    Args:\n",
    "        structure_path: Path to the structure file (CIF format)\n",
    "\n",
    "    Returns:\n",
    "        List of tuples containing residue indices of cysteine pairs forming disulfide bonds\n",
    "    \"\"\"\n",
    "    # Load the structure using gemi\n",
    "    structure = gemmi.read_structure(\n",
    "        str(structure_path), merge_chain_parts=True, format=gemmi.CoorFormat.Mmcif\n",
    "    )\n",
    "\n",
    "    # Extract all cysteine residues\n",
    "    cysteines = []\n",
    "    for model in structure:\n",
    "        for chain in model:\n",
    "            for residue in chain:\n",
    "                if residue.name == \"CYS\":\n",
    "                    # Find the sulfur atom (SG) in each cysteine\n",
    "                    for atom in residue:\n",
    "                        if atom.name == \"SG\":\n",
    "                            cysteines.append(\n",
    "                                (\n",
    "                                    int(residue.seqid.num),\n",
    "                                    str(chain.name),\n",
    "                                    np.array(atom.pos.tolist()),\n",
    "                                )\n",
    "                            )\n",
    "                            break\n",
    "\n",
    "    # Identify disulfide bonds based on distance between sulfur atoms\n",
    "    # Typical S-S bond distance is around 2.05 Å\n",
    "    disulfide_threshold = 2.3  # Angstroms\n",
    "    bridges = []\n",
    "\n",
    "    for i in range(len(cysteines)):\n",
    "        for j in range(i + 1, len(cysteines)):\n",
    "            res_i, chain_i, pos_i = cysteines[i]\n",
    "            res_j, chain_j, pos_j = cysteines[j]\n",
    "\n",
    "            # Calculate distance between sulfur atoms\n",
    "            distance = np.linalg.norm(pos_i - pos_j)\n",
    "\n",
    "            if distance <= disulfide_threshold:\n",
    "                bridges.append((res_i, chain_i, res_j, chain_j))\n",
    "\n",
    "    return bridges\n"
   ]
  },
  {
   "cell_type": "code",
   "execution_count": 52,
   "metadata": {},
   "outputs": [],
   "source": [
    "from pathlib import Path\n",
    "from typing import List, Tuple\n",
    "import toml\n",
    "\n",
    "\n",
    "def create_cystine_bridge_annotations(\n",
    "    bridges: List[Tuple[int, str, int, str]], output_path: Path\n",
    ") -> None:\n",
    "    \"\"\"Create a TOML annotation file for cystine bridges.\n",
    "\n",
    "    This function takes a list of cystine bridges and creates a TOML annotation file\n",
    "    that can be used with flatprot's annotation system to visualize the disulfide bonds.\n",
    "\n",
    "    Args:\n",
    "        bridges: List of tuples containing residue pairs forming disulfide bonds\n",
    "        output_path: Path where the TOML file should be saved\n",
    "\n",
    "    Example:\n",
    "        >>> bridges = [(3, 25), (6, 13), (18, 43)]\n",
    "        >>> create_cystine_bridge_annotations(bridges, Path(\"cystine_bridges.toml\"))\n",
    "    \"\"\"\n",
    "    annotations = []\n",
    "\n",
    "    for i, (res1, chain1, res2, chain2) in enumerate(bridges, 1):\n",
    "        annotation = {\n",
    "            \"label\": f\"Cys Bridge {i}\",\n",
    "            \"type\": \"line\",\n",
    "            \"indices\": [res1, res2],\n",
    "            \"chain\": chain1,\n",
    "        }\n",
    "        annotations.append(annotation)\n",
    "\n",
    "    toml_content = {\"annotations\": annotations}\n",
    "\n",
    "    # Write the TOML file\n",
    "    with open(output_path, \"w\") as f:\n",
    "        toml.dump(toml_content, f)\n"
   ]
  },
  {
   "cell_type": "code",
   "execution_count": 53,
   "metadata": {},
   "outputs": [
    {
     "name": "stdout",
     "output_type": "stream",
     "text": [
      "Found 5 cystine bridges:\n",
      "  Cys3 - CysA\n",
      "  Cys6 - CysA\n",
      "  Cys18 - CysA\n",
      "  Cys49 - CysA\n",
      "  Cys65 - CysA\n",
      "Cystine bridge annotations saved to ../tmp/cobra_annotation/cobra_annotation.toml\n"
     ]
    }
   ],
   "source": [
    "# Compute cystine bridges in the cobra structure\n",
    "cystine_bridges = compute_cystine_bridges(cobra_file)\n",
    "print(f\"Found {len(cystine_bridges)} cystine bridges:\")\n",
    "for bridge in cystine_bridges:\n",
    "    print(f\"  Cys{bridge[0]} - Cys{bridge[1]}\")\n",
    "\n",
    "create_cystine_bridge_annotations(cystine_bridges, cobra_annotation)\n",
    "print(f\"Cystine bridge annotations saved to {cobra_annotation}\")"
   ]
  },
  {
   "cell_type": "code",
   "execution_count": 54,
   "metadata": {},
   "outputs": [
    {
     "name": "stdout",
     "output_type": "stream",
     "text": [
      "\u001b[2;36m2025-03-27 16:09:06\u001b[0m\u001b[2;36m \u001b[0m\u001b[34mINFO    \u001b[0m Using default styles                               \n",
      "\u001b[2;36m2025-03-27 16:09:06\u001b[0m\u001b[2;36m \u001b[0m\u001b[34mINFO    \u001b[0m Loaded \u001b[1;36m5\u001b[0m annotations from                          \n",
      "\u001b[2;36m                    \u001b[0m         ..\u001b[35m/tmp/cobra_annotation/\u001b[0m\u001b[95mcobra_annotation.toml\u001b[0m      \n",
      "\u001b[2;36m2025-03-27 16:09:06\u001b[0m\u001b[2;36m \u001b[0m\u001b[34mINFO    \u001b[0m \u001b[1mSVG saved to ..\u001b[0m\u001b[1;35m/tmp/cobra_annotation/\u001b[0m\u001b[1;95mcobra.svg\u001b[0m     \n",
      "\u001b[2;36m2025-03-27 16:09:06\u001b[0m\u001b[2;36m \u001b[0m\u001b[34mINFO    \u001b[0m \u001b[1mSuccessfully processed structure:\u001b[0m                  \n",
      "\u001b[2;36m2025-03-27 16:09:06\u001b[0m\u001b[2;36m \u001b[0m\u001b[34mINFO    \u001b[0m   Structure file: ..\u001b[35m/data/3Ftx/\u001b[0m\u001b[95mcobra.cif\u001b[0m           \n",
      "\u001b[2;36m2025-03-27 16:09:06\u001b[0m\u001b[2;36m \u001b[0m\u001b[34mINFO    \u001b[0m   Output file: ..\u001b[35m/tmp/cobra_annotation/\u001b[0m\u001b[95mcobra.svg\u001b[0m   \n",
      "\u001b[2;36m2025-03-27 16:09:06\u001b[0m\u001b[2;36m \u001b[0m\u001b[34mINFO    \u001b[0m   Transformation: Inertia-based                    \n",
      "\u001b[2;36m2025-03-27 16:09:06\u001b[0m\u001b[2;36m \u001b[0m\u001b[34mINFO    \u001b[0m   Annotations file:                                \n",
      "\u001b[2;36m                    \u001b[0m         ..\u001b[35m/tmp/cobra_annotation/\u001b[0m\u001b[95mcobra_annotation.toml\u001b[0m      \n"
     ]
    }
   ],
   "source": [
    "%%pybash\n",
    "\n",
    "uv run flatprot project {cobra_file} -o {cobra_svg} --annotations {cobra_annotation}"
   ]
  },
  {
   "cell_type": "code",
   "execution_count": 55,
   "metadata": {},
   "outputs": [
    {
     "data": {
      "text/html": [
       "\n",
       "<div style=\" border: 1px solid black; text-align: center; border-radius: 20% 0 20% 0\">\n",
       "    <h3>Cobra</h3>\n",
       "    <?xml version=\"1.0\" encoding=\"UTF-8\"?>\n",
       "<svg style=\"width:100%; height:auto;\" xmlns=\"http://www.w3.org/2000/svg\" xmlns:xlink=\"http://www.w3.org/1999/xlink\"\n",
       "     width=\"1024\" height=\"1024\" viewBox=\"-512.0 -512.0 1024 1024\">\n",
       "<defs>\n",
       "</defs>\n",
       "<rect x=\"-512.0\" y=\"-512.0\" width=\"1024\" height=\"1024\" fill=\"white\" opacity=\"0.0\" class=\"background\" />\n",
       "<g id=\"root\">\n",
       "<g id=\"A\">\n",
       "<path d=\"M-158.69236909461915,33.245292815147565 L-102.20759344927896,92.15286083778261\" stroke=\"#333\" stroke-width=\"5.0\" fill=\"none\" class=\"element coil\" linecap=\"round\" />\n",
       "<path d=\"M-46.74572093060928,-153.05284033587446 L-99.48920294660948,-125.54824057515447 L-92.81631702261512,-52.27580034954924 L-165.3652550186135,-40.02714741045765 L-178.49782507461734,17.989345993519148 L-138.88691311462097,48.50123963677598 L-125.75434305861714,-9.515253767200818 L-53.20540506261875,-21.763906706292413 L-59.87829098661311,-95.03634693189764 L-7.134808970612912,-122.54094669261764 Z\" stroke=\"#333\" stroke-width=\"2.5\" fill=\"#f44\" class=\"element helix\" />\n",
       "<path d=\"M-83.73449933038866,108.99758682767691 L-120.68068756816926,75.30813484788831 L103.09959139955104,-133.00122901040982 Z\" stroke=\"#333\" stroke-width=\"2.5\" fill=\"#44f\" class=\"element sheet\" />\n",
       "<path d=\"M-37.15958980796049,-142.46521376665208 L-26.9402649506111,-137.79689351424605\" stroke=\"#333\" stroke-width=\"5.0\" fill=\"none\" class=\"element coil\" linecap=\"round\" />\n",
       "<path d=\"M18.665908457749033,-130.77524109319583 L64.38050262284779,-110.52244177260019 L-91.51496609297041,179.64475889408968 Z\" stroke=\"#333\" stroke-width=\"2.5\" fill=\"#44f\" class=\"element sheet\" />\n",
       "<path d=\"M103.09959139955104,-133.00122901040982 L148.75046538625134,36.22136650581479\" stroke=\"#333\" stroke-width=\"5.0\" fill=\"none\" class=\"element coil\" linecap=\"round\" />\n",
       "<path d=\"M4.489195099060957,-247.5770851826045 L41.523205540298406,-120.64884143289801\" stroke=\"#333\" stroke-width=\"5.0\" fill=\"none\" class=\"element coil\" linecap=\"round\" />\n",
       "<path d=\"M-91.51496609297041,179.64475889408968 L-33.0323664647353,159.7738327581337\" stroke=\"#333\" stroke-width=\"5.0\" fill=\"none\" class=\"element coil\" linecap=\"round\" />\n",
       "<path d=\"M-8.03469704509159,159.43247724520026 L-58.030035884379004,160.11518827106713 L-37.15958980796049,-142.46521376665208 Z\" stroke=\"#333\" stroke-width=\"2.5\" fill=\"#44f\" class=\"element sheet\" />\n",
       "<path d=\"M110.96121114233647,-169.5227256315968 L125.71858429747087,-126.47395831068448\" stroke=\"#333\" stroke-width=\"5.0\" fill=\"none\" class=\"element coil\" linecap=\"round\" />\n",
       "<path d=\"M42.5542563881827,-162.56161593584986 L4.489195099060957,-247.5770851826045\" stroke=\"#f44\" stroke-width=\"2.5\" class=\"element helix short-element\" linecap=\"round\" />\n",
       "<path d=\"M104.21930619371761,-139.23252566824763 L147.21786240122412,-113.71539095312133 L28.50182799136299,37.34459761290341 Z\" stroke=\"#333\" stroke-width=\"2.5\" fill=\"#44f\" class=\"element sheet\" />\n",
       "<path d=\"M28.50182799136299,37.34459761290341 L-29.712725142360437,33.82646767798953\" stroke=\"#44f\" stroke-width=\"2.5\" class=\"element sheet short-element\" linecap=\"round\" />\n",
       "<path d=\"M126.5348602251589,-17.975233244591422 L80.03017751382671,0.39089007848146373 L42.5542563881827,-162.56161593584986 Z\" stroke=\"#333\" stroke-width=\"2.5\" fill=\"#44f\" class=\"element sheet\" />\n",
       "<path d=\"M-29.712725142360437,33.82646767798953 L103.2825188694928,-8.79217158305498\" stroke=\"#333\" stroke-width=\"5.0\" fill=\"none\" class=\"element coil\" linecap=\"round\" />\n",
       "</g>\n",
       "<path d=\"M86.83188177502771,-60.94653594124932 L8.263662631981205,-45.575441351151085\" stroke=\"#333\" stroke-width=\"1.0\" stroke-opacity=\"1.0\" class=\"annotation line\" id=\"annotation-line-ca8422\" />\n",
       "<circle cx=\"86.83188177502771\" cy=\"-60.94653594124932\" r=\"2\" fill=\"#666\" fill-opacity=\"0.6\" class=\"annotation connector\" id=\"annotation-connector-start-ca8422\" />\n",
       "<circle cx=\"8.263662631981205\" cy=\"-45.575441351151085\" r=\"2\" fill=\"#666\" fill-opacity=\"0.6\" class=\"annotation connector\" id=\"annotation-connector-end-ca8422\" />\n",
       "<text x=\"49.467774184030766\" y=\"-43.447039777636896\" font-size=\"12\" text-anchor=\"start\" font-family=\"Arial\" fill=\"black\" dominant-baseline=\"middle\" class=\"annotation label\" id=\"annotation-label-ca8422\">Cys Bridge 1</text>\n",
       "<path d=\"M-29.712725142360437,33.82646767798953 L103.2825188694928,-8.79217158305498\" stroke=\"#333\" stroke-width=\"1.0\" stroke-opacity=\"1.0\" class=\"annotation line\" id=\"annotation-line-f63c53\" />\n",
       "<circle cx=\"-29.712725142360437\" cy=\"33.82646767798953\" r=\"2\" fill=\"#666\" fill-opacity=\"0.6\" class=\"annotation connector\" id=\"annotation-connector-start-f63c53\" />\n",
       "<circle cx=\"103.2825188694928\" cy=\"-8.79217158305498\" r=\"2\" fill=\"#666\" fill-opacity=\"0.6\" class=\"annotation connector\" id=\"annotation-connector-end-f63c53\" />\n",
       "<text x=\"33.73323221081976\" y=\"2.994157821326219\" font-size=\"12\" text-anchor=\"start\" font-family=\"Arial\" fill=\"black\" dominant-baseline=\"middle\" class=\"annotation label\" id=\"annotation-label-f63c53\">Cys Bridge 2</text>\n",
       "<path d=\"M23.52172574362183,-205.0693505592272 L-36.12778397215419,-66.90545213545562\" stroke=\"#333\" stroke-width=\"1.0\" stroke-opacity=\"1.0\" class=\"annotation line\" id=\"annotation-line-4abadb\" />\n",
       "<circle cx=\"23.52172574362183\" cy=\"-205.0693505592272\" r=\"2\" fill=\"#666\" fill-opacity=\"0.6\" class=\"annotation connector\" id=\"annotation-connector-start-4abadb\" />\n",
       "<circle cx=\"-36.12778397215419\" cy=\"-66.90545213545562\" r=\"2\" fill=\"#666\" fill-opacity=\"0.6\" class=\"annotation connector\" id=\"annotation-connector-end-4abadb\" />\n",
       "<text x=\"2.8778888102864446\" y=\"-132.02372299729478\" font-size=\"12\" text-anchor=\"start\" font-family=\"Arial\" fill=\"black\" dominant-baseline=\"middle\" class=\"annotation label\" id=\"annotation-label-4abadb\">Cys Bridge 3</text>\n",
       "<path d=\"M-79.6837469666113,-110.29229375352605 L44.440395728456764,-68.6714890537834\" stroke=\"#333\" stroke-width=\"1.0\" stroke-opacity=\"1.0\" class=\"annotation line\" id=\"annotation-line-f01ac8\" />\n",
       "<circle cx=\"-79.6837469666113\" cy=\"-110.29229375352605\" r=\"2\" fill=\"#666\" fill-opacity=\"0.6\" class=\"annotation connector\" id=\"annotation-connector-start-f01ac8\" />\n",
       "<circle cx=\"44.440395728456764\" cy=\"-68.6714890537834\" r=\"2\" fill=\"#666\" fill-opacity=\"0.6\" class=\"annotation connector\" id=\"annotation-connector-end-f01ac8\" />\n",
       "<text x=\"-14.442485207288913\" y=\"-98.96307003954135\" font-size=\"12\" text-anchor=\"start\" font-family=\"Arial\" fill=\"black\" dominant-baseline=\"middle\" class=\"annotation label\" id=\"annotation-label-f01ac8\">Cys Bridge 4</text>\n",
       "<path d=\"M103.09959139955104,-133.00122901040982 L141.14198638846796,8.017600586444033\" stroke=\"#333\" stroke-width=\"1.0\" stroke-opacity=\"1.0\" class=\"annotation line\" id=\"annotation-line-29892c\" />\n",
       "<circle cx=\"103.09959139955104\" cy=\"-133.00122901040982\" r=\"2\" fill=\"#666\" fill-opacity=\"0.6\" class=\"annotation connector\" id=\"annotation-connector-start-29892c\" />\n",
       "<circle cx=\"141.14198638846796\" cy=\"8.017600586444033\" r=\"2\" fill=\"#666\" fill-opacity=\"0.6\" class=\"annotation connector\" id=\"annotation-connector-end-29892c\" />\n",
       "<text x=\"131.7756427099721\" y=\"-65.09638668983655\" font-size=\"12\" text-anchor=\"start\" font-family=\"Arial\" fill=\"black\" dominant-baseline=\"middle\" class=\"annotation label\" id=\"annotation-label-29892c\">Cys Bridge 5</text>\n",
       "</g>\n",
       "</svg>\n",
       "</div>\n",
       "</div>"
      ],
      "text/plain": [
       "<IPython.core.display.HTML object>"
      ]
     },
     "metadata": {},
     "output_type": "display_data"
    }
   ],
   "source": [
    "from IPython.display import display, HTML\n",
    "\n",
    "with open(cobra_svg, \"r\") as f:\n",
    "    svg_content = f.read()\n",
    "\n",
    "# Modify SVG to constrain its width\n",
    "svg_content = svg_content.replace(\"<svg \", f'<svg style=\"width:100%; height:auto;\" ')\n",
    "\n",
    "html = f\"\"\"\n",
    "<div style=\" border: 1px solid black; text-align: center; border-radius: 20% 0 20% 0\">\n",
    "    <h3>Cobra</h3>\n",
    "    {svg_content}\n",
    "</div>\n",
    "\"\"\"\n",
    "\n",
    "html += \"</div>\"\n",
    "display(HTML(html))\n"
   ]
  }
 ],
 "metadata": {
  "kernelspec": {
   "display_name": ".venv",
   "language": "python",
   "name": "python3"
  },
  "language_info": {
   "codemirror_mode": {
    "name": "ipython",
    "version": 3
   },
   "file_extension": ".py",
   "mimetype": "text/x-python",
   "name": "python",
   "nbconvert_exporter": "python",
   "pygments_lexer": "ipython3",
   "version": "3.12.9"
  }
 },
 "nbformat": 4,
 "nbformat_minor": 2
}
