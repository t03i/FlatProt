{
 "cells": [
  {
   "cell_type": "markdown",
   "id": "615d2511",
   "metadata": {},
   "source": [
    "# FlatProt: Three-Finger Toxin Alignment\n",
    "\n",
    "**Compare related protein structures with consistent alignment!**\n",
    "\n",
    "Shows how to align three similar toxins and create side-by-side projections."
   ]
  },
  {
   "cell_type": "markdown",
   "id": "f3e6dfaa",
   "metadata": {},
   "source": [
    "## 🔧 Setup"
   ]
  },
  {
   "cell_type": "code",
   "execution_count": null,
   "id": "2ae69c3c",
   "metadata": {},
   "outputs": [],
   "source": [
    "import sys\n",
    "from pathlib import Path\n",
    "\n",
    "def setup_paths():\n",
    "    \"\"\"Setup correct paths for both Colab and local environments.\"\"\"\n",
    "    if \"google.colab\" in sys.modules:\n",
    "        # Colab: Stay in /content/, data will be at /content/data/\n",
    "        return \"data/\", \"tmp/\"\n",
    "    else:\n",
    "        # Local: Check if we're in examples/ directory and adjust\n",
    "        current_dir = Path.cwd()\n",
    "        if current_dir.name == \"examples\":\n",
    "            # We're in examples/, need to go up one level for data access\n",
    "            project_root = current_dir.parent\n",
    "            return str(project_root / \"data\") + \"/\", str(project_root / \"tmp\") + \"/\"\n",
    "        else:\n",
    "            # Already in project root\n",
    "            return \"data/\", \"tmp/\"\n",
    "\n",
    "if \"google.colab\" in sys.modules:\n",
    "    !wget -q https://raw.githubusercontent.com/t03i/FlatProt/main/examples/colab_setup.py\n",
    "    import colab_setup\n",
    "    colab_setup.setup_colab_environment()\n",
    "\n",
    "# Get correct paths for this environment\n",
    "data_path, tmp_path = setup_paths()\n",
    "print(f\"📁 Data path: {data_path}\")\n",
    "print(f\"📁 Output path: {tmp_path}\")"
   ]
  },
  {
   "cell_type": "markdown",
   "id": "29128f98",
   "metadata": {},
   "source": [
    "## 🎯 **Step 1: Align structures to reference database**\n",
    "\n",
    "This finds the best structural alignment for each toxin:\n",
    "*Note: The first time you run this, it will take a while to download the database.*"
   ]
  },
  {
   "cell_type": "code",
   "execution_count": null,
   "id": "5af4ade6",
   "metadata": {},
   "outputs": [],
   "source": [
    "# Align each structure to reference database\n",
    "!mkdir -p \"{tmp_path}3ftx_align\"\n",
    "!uv run flatprot align \"{data_path}3Ftx/cobra.cif\" \"{tmp_path}3ftx_align/cobra_matrix.npy\" \"{tmp_path}3ftx_align/cobra_info.json\" --min-probability 0.5 --quiet\n",
    "!uv run flatprot align \"{data_path}3Ftx/krait.cif\" \"{tmp_path}3ftx_align/krait_matrix.npy\" \"{tmp_path}3ftx_align/krait_info.json\" --min-probability 0.5 --quiet\n",
    "!uv run flatprot align \"{data_path}3Ftx/snake.cif\" \"{tmp_path}3ftx_align/snake_matrix.npy\" \"{tmp_path}3ftx_align/snake_info.json\" --min-probability 0.5 --quiet\n",
    "\n",
    "print(\"✅ All structures aligned!\")"
   ]
  },
  {
   "cell_type": "markdown",
   "id": "e77802e0",
   "metadata": {},
   "source": [
    "## 🎯 **Step 2: Create aligned projections**\n",
    "\n",
    "Apply the alignment matrices to ensure consistent orientation:"
   ]
  },
  {
   "cell_type": "code",
   "execution_count": null,
   "id": "220c031a",
   "metadata": {},
   "outputs": [],
   "source": [
    "# Create projections using alignment matrices\n",
    "!uv run flatprot project \"{data_path}3Ftx/cobra.cif\" -o \"{tmp_path}3ftx_align/cobra.svg\" --matrix \"{tmp_path}3ftx_align/cobra_matrix.npy\" --canvas-width 400 --canvas-height 300 --show-positions major --quiet\n",
    "!uv run flatprot project \"{data_path}3Ftx/krait.cif\" -o \"{tmp_path}3ftx_align/krait.svg\" --matrix \"{tmp_path}3ftx_align/krait_matrix.npy\" --canvas-width 400 --canvas-height 300 --show-positions major --quiet\n",
    "!uv run flatprot project \"{data_path}3Ftx/snake.cif\" -o \"{tmp_path}3ftx_align/snake.svg\" --matrix \"{tmp_path}3ftx_align/snake_matrix.npy\" --canvas-width 400 --canvas-height 300 --show-positions major --quiet\n",
    "\n",
    "print(\"✅ All projections created!\")"
   ]
  },
  {
   "cell_type": "markdown",
   "id": "d52f21a2",
   "metadata": {},
   "source": [
    "## 🎉 Compare the aligned structures"
   ]
  },
  {
   "cell_type": "code",
   "execution_count": null,
   "id": "d414c2f3",
   "metadata": {},
   "outputs": [],
   "source": [
    "from IPython.display import Image, HTML, display\n",
    "from pathlib import Path\n",
    "\n",
    "# Display the SVG projections\n",
    "print(\"🧬 Three-Finger Toxin Family Comparison:\")\n",
    "print()\n",
    "\n",
    "structure_names = [\"cobra\", \"krait\", \"snake\"]\n",
    "for name in structure_names:\n",
    "    svg_file = f\"{tmp_path}3ftx_align/{name}.svg\"\n",
    "    if Path(svg_file).exists():\n",
    "        print(f\"🐍 {name.title()} Toxin:\")\n",
    "        with open(svg_file) as f:\n",
    "            svg = f.read()\n",
    "        svg = svg.replace('<svg ', '<svg style=\"max-width: 100%; height: auto;\" ', 1)\n",
    "        display(HTML(f'<div style=\"text-align: center; margin: 20px; border: 1px solid #ddd; padding: 10px;\">{svg}</div>'))\n",
    "        print()\n",
    "    else:\n",
    "        print(f\"❌ Could not create {name} projection\")\n",
    "\n",
    "print(\"\\n✨ Notice how all three toxins have the same orientation!\")\n",
    "print(\"🎯 This makes it easy to compare structural differences and similarities.\")"
   ]
  },
  {
   "cell_type": "markdown",
   "id": "7266eaf9",
   "metadata": {},
   "source": [
    "## 🎓 What you accomplished:\n",
    "\n",
    "1. **Aligned** three related structures to a reference database\n",
    "2. **Generated** transformation matrices for consistent orientation\n",
    "3. **Created** comparable 2D projections\n",
    "4. **Visualized** the conserved three-finger fold\n",
    "\n",
    "**Key insight:** Despite sequence differences, all three toxins share the same structural framework -\n",
    "the characteristic \"three fingers\" formed by beta-sheet loops! 🧬\n",
    "\n",
    "This alignment approach works for any protein family in FlatProt's database."
   ]
  }
 ],
 "metadata": {
  "jupytext": {
   "cell_metadata_filter": "-all",
   "main_language": "python",
   "notebook_metadata_filter": "-all"
  }
 },
 "nbformat": 4,
 "nbformat_minor": 5
}
