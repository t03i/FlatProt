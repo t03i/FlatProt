{
 "cells": [
  {
   "cell_type": "markdown",
   "id": "51a33e57",
   "metadata": {},
   "source": [
    "# FlatProt: Style and Annotation Example\n",
    "\n",
    "**Goal:** This notebook demonstrates how to apply custom styles and various annotations (point, line, area) to a FlatProt projection.\n",
    "\n",
    "**Workflow:**\n",
    "1.  **Setup:** Define paths, import libraries, and setup the `pybash` magic.\n",
    "2.  **Define Annotations:** Create a string containing TOML definitions for point, line, and area annotations.\n",
    "3.  **Define Styles:** Create a string containing TOML style definitions for secondary structure elements (helix, sheet, coil).\n",
    "4.  **Write Files:** Save the annotation and style strings to their respective `.toml` files.\n",
    "5.  **Generate Projection:** Run `flatprot project` using the input structure, specifying the created style and annotation files.\n",
    "6.  **Display Result:** Show the generated SVG, which should reflect the custom styles and annotations."
   ]
  },
  {
   "cell_type": "markdown",
   "id": "b47af54a",
   "metadata": {},
   "source": [
    "---\n",
    "## Step 1: Setup and Imports\n",
    "\n",
    "Import necessary libraries, define file paths, and setup the `pybash` magic command."
   ]
  },
  {
   "cell_type": "code",
   "execution_count": null,
   "id": "1baaf01b",
   "metadata": {},
   "outputs": [],
   "source": [
    "# Essential Imports\n",
    "from pathlib import Path\n",
    "import os\n",
    "\n",
    "# IPython Specifics for Bash Magic and Display\n",
    "from IPython import get_ipython\n",
    "from IPython.core.magic import register_cell_magic\n",
    "from IPython.display import SVG, display"
   ]
  },
  {
   "cell_type": "code",
   "execution_count": null,
   "id": "561e3eca",
   "metadata": {},
   "outputs": [],
   "source": [
    "# Register pybash magic command if running in IPython\n",
    "ipython = get_ipython()\n",
    "if ipython:\n",
    "\n",
    "    @register_cell_magic\n",
    "    def pybash(line, cell):\n",
    "        \"\"\"Execute bash commands within IPython, substituting Python variables.\"\"\"\n",
    "        ipython.run_cell_magic(\"bash\", \"\", cell.format(**globals()))\n",
    "\n",
    "else:\n",
    "    print(\"[WARN] Not running in IPython environment. `pybash` magic will not work.\")"
   ]
  },
  {
   "cell_type": "code",
   "execution_count": null,
   "id": "f38d5e74",
   "metadata": {},
   "outputs": [],
   "source": [
    "# --- Configuration ---\n",
    "\n",
    "print(\"[STEP 1] Setting up paths and variables...\")\n",
    "\n",
    "# Define base directories and file paths\n",
    "base_dir = Path(\"..\")\n",
    "tmp_dir = base_dir / \"tmp\" / \"files_example\"\n",
    "structure_file = base_dir / \"data\" / \"1KT0\" / \"1kt0.cif\"\n",
    "\n",
    "structure_svg = tmp_dir / \"1kt0_styled_annotated.svg\"  # More descriptive name\n",
    "style_file = tmp_dir / \"custom_style.toml\"\n",
    "annotations_file = tmp_dir / \"custom_annotations.toml\"\n",
    "\n",
    "# Ensure input structure file exists\n",
    "if not structure_file.exists():\n",
    "    raise FileNotFoundError(f\"Input structure file not found: {structure_file}\")\n",
    "\n",
    "# Create temporary directory if it doesn't exist\n",
    "os.makedirs(tmp_dir, exist_ok=True)\n",
    "print(f\"[INFO] Using temporary directory: {tmp_dir.resolve()}\")\n",
    "\n",
    "print(\"[INFO] Paths configured:\")\n",
    "print(f\"  Input Structure: {structure_file.resolve()}\")\n",
    "print(f\"  Output SVG: {structure_svg.resolve()}\")\n",
    "print(f\"  Style File: {style_file.resolve()}\")\n",
    "print(f\"  Annotations File: {annotations_file.resolve()}\")"
   ]
  },
  {
   "cell_type": "markdown",
   "id": "3a1c61f8",
   "metadata": {},
   "source": [
    "---\n",
    "## Step 2: Define Annotation Content\n",
    "\n",
    "Define the content for the annotations file as a multiline string in TOML format. This includes examples of point, line, and area annotations with optional styling."
   ]
  },
  {
   "cell_type": "code",
   "execution_count": null,
   "id": "8f624847",
   "metadata": {},
   "outputs": [],
   "source": [
    "print(\"\\n[STEP 2] Defining annotation content...\")\n",
    "annotations_content = \"\"\"\n",
    "# FlatProt Annotation Example\n",
    "# Demonstrates point, line, and area annotations with styles.\n",
    "\n",
    "[[annotations]]\n",
    "type = \"point\"\n",
    "label = \"Active Site His\"\n",
    "index = \"A:67\" # Example index, verify if correct for 1kt0\n",
    "[annotations.style]\n",
    "marker_shape = \"triangle\" # Example shape\n",
    "marker_radius = 2\n",
    "color = \"#FF0000\" # Red\n",
    "label_offset = [5,-5]\n",
    "\n",
    "[[annotations]]\n",
    "type = \"point\"\n",
    "label = \"Binding Pocket Tyr\"\n",
    "index = \"A:151\" # Example index\n",
    "[annotations.style]\n",
    "marker_shape = \"circle\"\n",
    "marker_radius = 2\n",
    "color = \"#0000FF\" # Blue\n",
    "\n",
    "[[annotations]]\n",
    "type = \"line\"\n",
    "label = \"Interaction\"\n",
    "indices = [\"A:67\", \"A:57\"] # Example indices for interaction\n",
    "[annotations.style]\n",
    "line_color = \"#FF8C00\" # Dark Orange\n",
    "stroke_width = 2\n",
    "line_style = [5,3]\n",
    "label_color = \"#FF8C00\"\n",
    "label_font_size = 10\n",
    "\n",
    "[[annotations]]\n",
    "type = \"line\"\n",
    "label = \"Domain Linker\"\n",
    "indices = [\"A:188\", \"A:190\"] # Example short line\n",
    "[annotations.style]\n",
    "line_color = \"#8A2BE2\" # Blue Violet\n",
    "stroke_width = 1.5\n",
    "label_font_size = 9\n",
    "\n",
    "[[annotations]]\n",
    "type = \"area\"\n",
    "label = \"Catalytic Loop\"\n",
    "range = \"A:189-195\" # Example range\n",
    "[annotations.style]\n",
    "fill_color = \"#32CD32\" # Lime Green\n",
    "opacity = 0.25\n",
    "color = \"#228B22\" # Forest Green\n",
    "stroke_width = 1\n",
    "\n",
    "\"\"\"\n",
    "print(\"[INFO] Annotation content defined.\")"
   ]
  },
  {
   "cell_type": "markdown",
   "id": "b6f50ea2",
   "metadata": {},
   "source": [
    "---\n",
    "## Step 3: Define Style Content\n",
    "\n",
    "Define the content for the style file as a multiline string in TOML format. This specifies custom colors and opacities for helices, sheets, and coils."
   ]
  },
  {
   "cell_type": "code",
   "execution_count": null,
   "id": "d86690ca",
   "metadata": {},
   "outputs": [],
   "source": [
    "print(\"\\n[STEP 3] Defining style content...\")\n",
    "style_content = \"\"\"\n",
    "# Custom Style definitions for protein secondary structures\n",
    "\n",
    "[helix]\n",
    "color = \"#E41A1C\"   # A distinct red from Colorbrewer Set1\n",
    "stroke_color = \"#A01012\" # Darker version\n",
    "stroke_width = 1\n",
    "opacity = 0.75\n",
    "\n",
    "[sheet]\n",
    "color = \"#377EB8\"   # A distinct blue from Colorbrewer Set1\n",
    "stroke_color = \"#205588\" # Darker version\n",
    "stroke_width = 1\n",
    "opacity = 0.75\n",
    "\n",
    "[coil]\n",
    "stroke_color = \"#888888\" # Medium gray\n",
    "stroke_width = 0.75\n",
    "opacity = 0.9\n",
    "\"\"\"\n",
    "print(\"[INFO] Style content defined.\")"
   ]
  },
  {
   "cell_type": "markdown",
   "id": "ff0d566d",
   "metadata": {},
   "source": [
    "---\n",
    "## Step 4: Write Configuration Files\n",
    "\n",
    "Write the defined annotation and style strings to their respective `.toml` files."
   ]
  },
  {
   "cell_type": "code",
   "execution_count": null,
   "id": "fb5a979f",
   "metadata": {},
   "outputs": [],
   "source": [
    "print(\"\\n[STEP 4] Writing configuration files...\")\n",
    "try:\n",
    "    with style_file.open(\"w\", encoding=\"utf-8\") as f:\n",
    "        f.write(style_content)\n",
    "    print(f\"  Successfully wrote style file: {style_file.resolve()}\")\n",
    "except IOError as e:\n",
    "    print(f\"[ERROR] Failed to write style file {style_file}: {e}\")\n",
    "\n",
    "try:\n",
    "    with annotations_file.open(\"w\", encoding=\"utf-8\") as f:\n",
    "        f.write(annotations_content)\n",
    "    print(f\"  Successfully wrote annotations file: {annotations_file.resolve()}\")\n",
    "except IOError as e:\n",
    "    print(f\"[ERROR] Failed to write annotations file {annotations_file}: {e}\")"
   ]
  },
  {
   "cell_type": "markdown",
   "id": "9a393234",
   "metadata": {},
   "source": [
    "---\n",
    "## Step 5: Generate Projection with Styles and Annotations\n",
    "\n",
    "Run the `flatprot project` command, providing the structure file, the output SVG path, and paths to the newly created style and annotation files."
   ]
  },
  {
   "cell_type": "code",
   "execution_count": null,
   "id": "bd1e2b1d",
   "metadata": {},
   "outputs": [],
   "source": [
    "print(\"\\n[STEP 5] Generating FlatProt projection with styles and annotations...\")\n",
    "\n",
    "# Check if config files were written successfully before proceeding\n",
    "if style_file.exists() and annotations_file.exists() and ipython:\n",
    "    # Construct the command\n",
    "    project_cmd = (\n",
    "        f\"uv run flatprot project {structure_file.resolve()} \"\n",
    "        f\"{structure_svg.resolve()} \"\n",
    "        f\"--style {style_file.resolve()} \"\n",
    "        f\"--annotations {annotations_file.resolve()} \"\n",
    "        f\"--quiet\"\n",
    "    )\n",
    "\n",
    "    # Run the command using pybash magic via run_cell_magic\n",
    "    print(\"  Running command: flatprot project ...\")  # Keep it concise\n",
    "    try:\n",
    "        ipython.run_cell_magic(\"pybash\", \"\", project_cmd)\n",
    "        print(f\"  SVG projection saved to: {structure_svg.resolve()}\")\n",
    "    except Exception as e:\n",
    "        print(f\"[ERROR] flatprot project command failed: {e}\")\n",
    "\n",
    "elif not style_file.exists() or not annotations_file.exists():\n",
    "    print(\"[WARN] Style or annotations file does not exist. Skipping projection.\")\n",
    "elif not ipython:\n",
    "    print(\"[WARN] Not in IPython environment. Skipping projection command.\")"
   ]
  },
  {
   "cell_type": "markdown",
   "id": "f29ec54f",
   "metadata": {},
   "source": [
    "---\n",
    "## Step 6: Display Result\n",
    "\n",
    "Load and display the generated SVG file. Observe the custom colors applied to secondary structures and the various annotations overlaid on the projection."
   ]
  },
  {
   "cell_type": "code",
   "execution_count": null,
   "id": "e5a65855",
   "metadata": {},
   "outputs": [],
   "source": [
    "print(\"\\n[STEP 6] Displaying the final SVG...\")\n",
    "\n",
    "if structure_svg.exists():\n",
    "    try:\n",
    "        # Load and display the SVG\n",
    "        display(SVG(str(structure_svg)))\n",
    "        print(f\"  Displayed SVG: {structure_svg.name}\")\n",
    "    except Exception as e:\n",
    "        print(f\"[ERROR] Failed to load or display SVG {structure_svg}: {e}\")\n",
    "else:\n",
    "    print(f\"[INFO] SVG file not found at {structure_svg.resolve()}. Cannot display.\")\n",
    "\n",
    "print(\"\\n[INFO] Notebook execution finished.\")"
   ]
  },
  {
   "cell_type": "markdown",
   "id": "e36d182c",
   "metadata": {},
   "source": [
    "---\n",
    "End of Notebook\n",
    "---"
   ]
  }
 ],
 "metadata": {
  "jupytext": {
   "cell_metadata_filter": "-all",
   "main_language": "python",
   "notebook_metadata_filter": "-all"
  }
 },
 "nbformat": 4,
 "nbformat_minor": 5
}
