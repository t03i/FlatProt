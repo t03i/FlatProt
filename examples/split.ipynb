{
 "cells": [
  {
   "cell_type": "markdown",
   "id": "1dc4dfdd",
   "metadata": {},
   "source": [
    "# FlatProt: Protein Domain Splitting\n",
    "\n",
    "**Extract and visualize protein domains separately!**\n",
    "\n",
    "This example shows how to use `flatprot split` to extract structural domains\n",
    "and create individual visualizations for comparative analysis."
   ]
  },
  {
   "cell_type": "markdown",
   "id": "0a9e13a1",
   "metadata": {},
   "source": [
    "## 🔧 Setup"
   ]
  },
  {
   "cell_type": "code",
   "execution_count": null,
   "id": "a050facb",
   "metadata": {},
   "outputs": [],
   "source": [
    "import sys\n",
    "from pathlib import Path\n",
    "\n",
    "def setup_paths():\n",
    "    \"\"\"Setup correct paths for both Colab and local environments.\"\"\"\n",
    "    if \"google.colab\" in sys.modules:\n",
    "        # Colab: Stay in /content/, data will be at /content/data/\n",
    "        return \"data/\", \"tmp/\"\n",
    "    else:\n",
    "        # Local: Check if we're in examples/ directory and adjust\n",
    "        current_dir = Path.cwd()\n",
    "        if current_dir.name == \"examples\":\n",
    "            # We're in examples/, need to go up one level for data access\n",
    "            project_root = current_dir.parent\n",
    "            return str(project_root / \"data\") + \"/\", str(project_root / \"tmp\") + \"/\"\n",
    "        else:\n",
    "            # Already in project root\n",
    "            return \"data/\", \"tmp/\"\n",
    "\n",
    "if \"google.colab\" in sys.modules:\n",
    "    !wget -q https://raw.githubusercontent.com/t03i/FlatProt/main/examples/colab_setup.py\n",
    "    import colab_setup\n",
    "    colab_setup.setup_colab_environment()\n",
    "\n",
    "# Get correct paths for this environment\n",
    "data_path, tmp_path = setup_paths()\n",
    "print(f\"📁 Data path: {data_path}\")\n",
    "print(f\"📁 Output path: {tmp_path}\")"
   ]
  },
  {
   "cell_type": "markdown",
   "id": "636df6aa",
   "metadata": {},
   "source": [
    "## 📖 About the Example\n",
    "\n",
    "We'll work with **1KT0** - a multi-domain protein with three distinct structural regions:\n",
    "- **Domain 1**: [1kt0A01](https://www.cathdb.info/domain/1kt0A01)\n",
    "- **Domain 2**: [1kt0A02](https://www.cathdb.info/domain/1kt0A02)\n",
    "- **Domain 3**: [1kt0A03](https://www.cathdb.info/domain/1kt0A03)\n",
    "\n",
    "with domain 1 and 2 being from the same superfamily and domain 3 being related to the binding of the protein.\n",
    "The `flatprot split` command extracts these domains and creates individual projections; alignment to the included superfamily database validates that the domain separation is picked up by SCOP as well."
   ]
  },
  {
   "cell_type": "markdown",
   "id": "833c73f5",
   "metadata": {},
   "source": [
    "## 🔍 Examine the Domain Information"
   ]
  },
  {
   "cell_type": "code",
   "execution_count": null,
   "id": "02242389",
   "metadata": {},
   "outputs": [],
   "source": [
    "# Look at the domain definition file\n",
    "domain_file = f\"{data_path}1KT0/1kt0-chainsaw-domains.tsv\"\n",
    "with open(domain_file, 'r') as f:\n",
    "    lines = f.readlines()\n",
    "\n",
    "print(\"🧬 Domain definitions for 1KT0:\")\n",
    "print(\"=\" * 50)\n",
    "for line in lines:\n",
    "    print(line.strip())"
   ]
  },
  {
   "cell_type": "markdown",
   "id": "17b17c4d",
   "metadata": {},
   "source": [
    "## ✂️ **Parse Domain Regions**\n",
    "\n",
    "Extract the domain boundaries from the ChainSaw file:"
   ]
  },
  {
   "cell_type": "code",
   "execution_count": null,
   "id": "f1cf193f",
   "metadata": {},
   "outputs": [],
   "source": [
    "# Parse domain regions from the TSV file\n",
    "with open(domain_file, 'r') as f:\n",
    "    lines = f.readlines()\n",
    "\n",
    "# Get the domain regions from the second line (skip header)\n",
    "data_line = lines[1].strip().split('\\t')\n",
    "regions_str = data_line[4]  # The chopping column\n",
    "chain_id = data_line[0]     # Chain ID\n",
    "\n",
    "# Convert to flatprot format (add chain prefix)\n",
    "regions_with_chain = ','.join([f\"A:{region}\" for region in regions_str.split(',')])\n",
    "\n",
    "print(f\"🧬 Parsed domains: {regions_str}\")\n",
    "print(f\"🎯 FlatProt format: {regions_with_chain}\")"
   ]
  },
  {
   "cell_type": "markdown",
   "id": "bec23323",
   "metadata": {},
   "source": [
    "## ✂️ **The Magic of Split**\n",
    "\n",
    "One command extracts all domains and creates aligned visualization:\n",
    "*Note: The first time you run this, it will take a while to download the database.*"
   ]
  },
  {
   "cell_type": "code",
   "execution_count": null,
   "id": "009ccaee",
   "metadata": {},
   "outputs": [],
   "source": [
    "# Create split domain visualization\n",
    "!mkdir -p \"{tmp_path}split\"\n",
    "!uv run flatprot split \"{data_path}1KT0/1kt0.cif\" --regions \"{regions_with_chain}\" --output \"{tmp_path}split/1kt0_domains.svg\" --canvas-width 800 --canvas-height 600 --show-positions minimal --show-database-alignment --gap-x 200 --gap-y 20 --quiet\n",
    "\n",
    "print(\"✅ Domain splitting completed!\")"
   ]
  },
  {
   "cell_type": "markdown",
   "id": "ae204021",
   "metadata": {},
   "source": [
    "## 🎉 View the Split Domain Visualization"
   ]
  },
  {
   "cell_type": "code",
   "execution_count": null,
   "id": "039c6c2f",
   "metadata": {},
   "outputs": [],
   "source": [
    "from IPython.display import HTML, display\n",
    "from pathlib import Path\n",
    "\n",
    "# Display the split domain visualization\n",
    "print(\"🧬 1KT0 Protein Domains - Split View:\")\n",
    "print()\n",
    "\n",
    "split_file = f\"{tmp_path}split/1kt0_domains.svg\"\n",
    "if Path(split_file).exists():\n",
    "    print(\"🎯 Multi-domain protein with aligned regions:\")\n",
    "\n",
    "    with open(split_file) as f:\n",
    "        svg_content = f.read()\n",
    "\n",
    "    # Make SVG responsive\n",
    "    svg_content = svg_content.replace('<svg ', '<svg style=\"max-width: 100%; height: auto;\" ', 1)\n",
    "    display(HTML(f'<div style=\"text-align: center; margin: 20px; border: 2px solid #4ECDC4; padding: 15px; border-radius: 10px; background-color: #f8f9fa;\">{svg_content}</div>'))\n",
    "\n",
    "    print(\"🔍 **What you see:**\")\n",
    "    print(\"   • Three domains extracted and aligned\")\n",
    "    print(\"   • Domains positioned with gaps for clarity\")\n",
    "    print(\"   • Each domain maintains its structural features\")\n",
    "else:\n",
    "    print(\"❌ Split visualization not found - check the split command above\")\n",
    "\n",
    "\n"
   ]
  },
  {
   "cell_type": "markdown",
   "id": "d37dec4d",
   "metadata": {},
   "source": [
    "## 🎓 What you accomplished:\n",
    "\n",
    "1. **Parsed** domain boundaries from ChainSaw predictions\n",
    "2. **Extracted** multiple structural domains from a single protein\n",
    "3. **Created** aligned split visualization showing all domains\n",
    "4. **Visualized** domain organization and structural relationships"
   ]
  },
  {
   "cell_type": "markdown",
   "id": "c0140b7d",
   "metadata": {},
   "source": [
    "## 💡 **The Power of Domain Splitting**\n",
    "\n",
    "This workflow demonstrates:\n",
    "- **Automated domain extraction** from structural data\n",
    "- **Individual visualization** of complex multi-domain proteins\n",
    "- **Comparative analysis** at the domain level\n",
    "- **Simplified interpretation** of protein architecture\n",
    "\n",
    "**Perfect for structural biology and protein evolution studies!** 🎯✨"
   ]
  }
 ],
 "metadata": {
  "jupytext": {
   "cell_metadata_filter": "-all",
   "main_language": "python",
   "notebook_metadata_filter": "-all"
  }
 },
 "nbformat": 4,
 "nbformat_minor": 5
}
