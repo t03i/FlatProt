{
 "cells": [
  {
   "cell_type": "code",
   "execution_count": 1,
   "metadata": {},
   "outputs": [],
   "source": [
    "from pathlib import Path\n",
    "import os\n",
    "\n",
    "from IPython import get_ipython\n",
    "from IPython.core.magic import register_cell_magic\n",
    "\n",
    "ipython = get_ipython()\n",
    "\n",
    "\n",
    "@register_cell_magic\n",
    "def pybash(line, cell):\n",
    "    ipython.run_cell_magic(\"bash\", \"\", cell.format(**globals()))"
   ]
  },
  {
   "cell_type": "code",
   "execution_count": 2,
   "metadata": {},
   "outputs": [],
   "source": [
    "import gemmi\n",
    "from pathlib import Path\n",
    "\n",
    "\n",
    "def extract_domain(\n",
    "    struct_file: Path, chain: str, start_res: int, end_res: int, output_file: Path\n",
    ") -> None:\n",
    "    \"\"\"\n",
    "    Extract a domain from a structure file (PDB or mmCIF) using gemmi.\n",
    "\n",
    "    Args:\n",
    "        struct_file: Path to the input structure file (PDB or mmCIF)\n",
    "        chain: Chain identifier\n",
    "        start_res: Start residue number\n",
    "        end_res: End residue number\n",
    "        output_file: Path to save the extracted domain (always as mmCIF)\n",
    "\n",
    "    Raises:\n",
    "        ValueError: If the chain is not found or no residues are extracted.\n",
    "        Exception: For other file reading or processing errors.\n",
    "    \"\"\"\n",
    "    try:\n",
    "        structure = gemmi.read_structure(\n",
    "            str(struct_file), merge_chain_parts=True, format=gemmi.CoorFormat.Detect\n",
    "        )\n",
    "\n",
    "        # Create a new structure for the domain\n",
    "        domain = gemmi.Structure()\n",
    "        domain.name = f\"{struct_file.stem}_{chain}_{start_res}_{end_res}\"\n",
    "\n",
    "        # Create a new model\n",
    "        model = gemmi.Model(\"1\")\n",
    "\n",
    "        # Find and copy the specified chain\n",
    "        found_chain = False\n",
    "        extracted_residues = 0\n",
    "        original_chain_instance = None\n",
    "\n",
    "        for ch in structure[0]:  # Assuming model 0\n",
    "            if ch.name == chain:\n",
    "                original_chain_instance = ch\n",
    "                found_chain = True\n",
    "                break\n",
    "\n",
    "        if not found_chain:\n",
    "            raise ValueError(f\"Chain {chain} not found in {struct_file}\")\n",
    "\n",
    "        new_chain = gemmi.Chain(chain)\n",
    "\n",
    "        # Copy residues in the specified range\n",
    "        for residue in original_chain_instance:\n",
    "            seq_id = residue.seqid.num\n",
    "            if start_res <= seq_id <= end_res:\n",
    "                # Ensure residue is cloned to avoid modifying original structure if needed elsewhere\n",
    "                new_chain.add_residue(residue.clone())\n",
    "                extracted_residues += 1\n",
    "\n",
    "        if extracted_residues == 0:\n",
    "            raise ValueError(\n",
    "                f\"No residues in range {start_res}-{end_res} found in chain {chain} of {struct_file}\"\n",
    "            )\n",
    "\n",
    "        model.add_chain(new_chain)\n",
    "        domain.add_model(model)\n",
    "        domain.make_mmcif_document().write_file(str(output_file))\n",
    "\n",
    "        print(\n",
    "            f\"Successfully extracted domain from {struct_file}: chain {chain}, \"\n",
    "            f\"residues {start_res}-{end_res} ({extracted_residues} residues) to {output_file}\"\n",
    "        )\n",
    "\n",
    "    except ValueError as ve:  # Re-raise specific errors\n",
    "        raise ve\n",
    "    except Exception as e:\n",
    "        # Raise a more informative general exception\n",
    "        raise Exception(f\"Failed to extract domain from {struct_file}: {e}\") from e"
   ]
  },
  {
   "cell_type": "code",
   "execution_count": 3,
   "metadata": {},
   "outputs": [],
   "source": [
    "structure_id = \"1kt0\"\n",
    "tmp_dir = Path(\"../tmp/domain_separation\")\n",
    "data_dir = Path(f\"../data/{structure_id}\")\n",
    "\n",
    "structure_file = data_dir / f\"{structure_id}.cif\"\n",
    "structure_svg = tmp_dir / f\"{structure_id}.svg\"\n",
    "domains_svg = tmp_dir / f\"{structure_id}-domains.svg\"\n",
    "\n",
    "os.makedirs(tmp_dir, exist_ok=True)"
   ]
  },
  {
   "cell_type": "markdown",
   "metadata": {},
   "source": [
    "## Generate Structure SVG without Domain Separation\n"
   ]
  },
  {
   "cell_type": "code",
   "execution_count": 4,
   "metadata": {},
   "outputs": [
    {
     "name": "stdout",
     "output_type": "stream",
     "text": [
      "\u001b[2;36m2025-04-01 11:23:24\u001b[0m\u001b[2;36m \u001b[0m\u001b[34mINFO    \u001b[0m Using default styles                               \n",
      "\u001b[2;36m2025-04-01 11:23:24\u001b[0m\u001b[2;36m \u001b[0m\u001b[34mINFO    \u001b[0m \u001b[1mSVG saved to ..\u001b[0m\u001b[1;35m/tmp/domain_separation/\u001b[0m\u001b[1;95m1kt0.svg\u001b[0m     \n",
      "\u001b[2;36m2025-04-01 11:23:24\u001b[0m\u001b[2;36m \u001b[0m\u001b[34mINFO    \u001b[0m \u001b[1mSuccessfully processed structure:\u001b[0m                  \n",
      "\u001b[2;36m2025-04-01 11:23:24\u001b[0m\u001b[2;36m \u001b[0m\u001b[34mINFO    \u001b[0m   Structure file: ..\u001b[35m/data/1kt0/\u001b[0m\u001b[95m1kt0.cif\u001b[0m            \n",
      "\u001b[2;36m2025-04-01 11:23:24\u001b[0m\u001b[2;36m \u001b[0m\u001b[34mINFO    \u001b[0m   Output file: ..\u001b[35m/tmp/domain_separation/\u001b[0m\u001b[95m1kt0.svg\u001b[0m   \n",
      "\u001b[2;36m2025-04-01 11:23:24\u001b[0m\u001b[2;36m \u001b[0m\u001b[34mINFO    \u001b[0m   Transformation: Inertia-based                    \n"
     ]
    }
   ],
   "source": [
    "%%pybash\n",
    "\n",
    "uv run flatprot project {structure_file} -o {structure_svg}"
   ]
  },
  {
   "cell_type": "markdown",
   "metadata": {},
   "source": [
    "## Load Domains generated by Chainsaw [(Wells et al. 2024)](https://doi.org/10.1093/bioinformatics/btae296) | [GitHub](https://github.com/JudeWells/chainsaw)\n"
   ]
  },
  {
   "cell_type": "code",
   "execution_count": 5,
   "metadata": {},
   "outputs": [],
   "source": [
    "import polars as pl\n",
    "from flatprot.core import ResidueRange\n",
    "from flatprot.utils.domain_utils import DomainTransformation\n",
    "\n",
    "# Define the path to the chainsaw domains file\n",
    "chainsaw_file = data_dir / f\"{structure_id.lower()}-chainsaw-domains.tsv\"\n",
    "\n",
    "# Read the domains file\n",
    "domains_df = pl.read_csv(chainsaw_file, separator=\"\\t\")\n",
    "\n",
    "# Parse the chopping column which contains residue ranges\n",
    "chopping = domains_df[\"chain_id\" == structure_id][\"chopping\"][0]\n",
    "\n",
    "# Get all residues from the ranges\n",
    "domains = []\n",
    "for range_str in chopping.split(\",\"):\n",
    "    start, end = map(int, range_str.split(\"-\"))\n",
    "    domains.append(DomainTransformation(ResidueRange(\"A\", start, end)))"
   ]
  },
  {
   "cell_type": "markdown",
   "metadata": {},
   "source": [
    "## Split the structure into domains\n"
   ]
  },
  {
   "cell_type": "code",
   "execution_count": 11,
   "metadata": {},
   "outputs": [
    {
     "name": "stdout",
     "output_type": "stream",
     "text": [
      "Successfully extracted domain from ../data/1kt0/1kt0.cif: chain A, residues 34-141 (89 residues) to ../tmp/domain_separation/1kt0_A_34_141.cif\n",
      "Successfully extracted domain from ../data/1kt0/1kt0.cif: chain A, residues 148-251 (104 residues) to ../tmp/domain_separation/1kt0_A_148_251.cif\n",
      "Successfully extracted domain from ../data/1kt0/1kt0.cif: chain A, residues 256-411 (152 residues) to ../tmp/domain_separation/1kt0_A_256_411.cif\n",
      "--- Debug: Combined CANVAS Coordinates ---\n",
      "  Range (0-89):\n",
      "    Shape: (89, 2)\n",
      "    Min XY: [-256.61654924 -273.9778134 ]\n",
      "    Max XY: [272.18737812 266.0221866 ]\n",
      "  Range (0-104):\n",
      "    Shape: (104, 2)\n",
      "    Min XY: [ 578.80392736 -238.10459304]\n",
      "    Max XY: [1298.80392736  233.68946882]\n",
      "  Range (0-152):\n",
      "    Shape: (152, 2)\n",
      "    Min XY: [1348.80392736 -243.5166494 ]\n",
      "    Max XY: [1946.0835796  296.4833506]\n",
      "--- End Debug ---\n",
      "Combined SVG saved to ../tmp/domain_separation/1kt0-domains-combined.svg\n"
     ]
    }
   ],
   "source": []
  }
 ],
 "metadata": {
  "kernelspec": {
   "display_name": ".venv",
   "language": "python",
   "name": "python3"
  },
  "language_info": {
   "codemirror_mode": {
    "name": "ipython",
    "version": 3
   },
   "file_extension": ".py",
   "mimetype": "text/x-python",
   "name": "python",
   "nbconvert_exporter": "python",
   "pygments_lexer": "ipython3",
   "version": "3.12.9"
  }
 },
 "nbformat": 4,
 "nbformat_minor": 2
}
