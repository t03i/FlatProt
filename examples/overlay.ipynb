{
 "cells": [
  {
   "cell_type": "markdown",
   "id": "0e669b10",
   "metadata": {},
   "source": [
    "# FlatProt: Protein Family Overlay\n",
    "\n",
    "**Create publication-quality overlays with automatic clustering and alignment!**\n",
    "\n",
    "One command handles everything: clustering, alignment, and visualization."
   ]
  },
  {
   "cell_type": "markdown",
   "id": "2413b6e6",
   "metadata": {},
   "source": [
    "## 🔧 Setup"
   ]
  },
  {
   "cell_type": "code",
   "execution_count": null,
   "id": "02e50bac",
   "metadata": {},
   "outputs": [],
   "source": [
    "# Colab setup with robust path handling\n",
    "import sys\n",
    "from pathlib import Path\n",
    "\n",
    "def setup_paths():\n",
    "    \"\"\"Setup correct paths for both Colab and local environments.\"\"\"\n",
    "    if \"google.colab\" in sys.modules:\n",
    "        # Colab: Stay in /content/, data will be at /content/data/\n",
    "        return \"data/\", \"tmp/\"\n",
    "    else:\n",
    "        # Local: Check if we're in examples/ directory and adjust\n",
    "        current_dir = Path.cwd()\n",
    "        if current_dir.name == \"examples\":\n",
    "            # We're in examples/, need to go up one level for data access\n",
    "            project_root = current_dir.parent\n",
    "            return str(project_root / \"data\") + \"/\", str(project_root / \"tmp\") + \"/\"\n",
    "        else:\n",
    "            # Already in project root\n",
    "            return \"data/\", \"tmp/\"\n",
    "\n",
    "if \"google.colab\" in sys.modules:\n",
    "    !wget -q https://raw.githubusercontent.com/t03i/FlatProt/main/examples/colab_setup.py\n",
    "    import colab_setup\n",
    "    colab_setup.setup_colab_environment()\n",
    "\n",
    "# Get correct paths for this environment\n",
    "data_path, tmp_path = setup_paths()\n",
    "print(f\"📁 Data path: {data_path}\")\n",
    "print(f\"📁 Output path: {tmp_path}\")"
   ]
  },
  {
   "cell_type": "markdown",
   "id": "dfa7a836",
   "metadata": {},
   "source": [
    "## 📁 Extract protein structures"
   ]
  },
  {
   "cell_type": "code",
   "execution_count": null,
   "id": "9148e33b",
   "metadata": {},
   "outputs": [],
   "source": [
    "# Extract KLK proteins from archive\n",
    "import subprocess\n",
    "import time\n",
    "from pathlib import Path\n",
    "\n",
    "# Create output directory\n",
    "output_dir = Path(f\"{tmp_path}overlay/klk/\")\n",
    "output_dir.mkdir(parents=True, exist_ok=True)\n",
    "\n",
    "# Check if files already exist\n",
    "existing_files = list(output_dir.glob(\"*.cif\"))\n",
    "if existing_files:\n",
    "    print(f\"📁 Found {len(existing_files)} existing CIF files, skipping extraction\")\n",
    "else:\n",
    "    print(f\"📦 Extracting protein structures from {data_path}KLK.zip...\")\n",
    "    print(\"⏳ This may take a few minutes (436 files to extract)...\")\n",
    "\n",
    "    try:\n",
    "        # Use subprocess with timeout and progress indication\n",
    "        start_time = time.time()\n",
    "        result = subprocess.run([\n",
    "            \"unzip\", \"-j\", f\"{data_path}KLK.zip\",\n",
    "            \"KLK/structures/*.cif\", \"-d\", str(output_dir), \"-q\"\n",
    "        ], timeout=300, capture_output=True, text=True)\n",
    "\n",
    "        elapsed = time.time() - start_time\n",
    "        if result.returncode == 0:\n",
    "            print(f\"✅ Extraction completed in {elapsed:.1f} seconds\")\n",
    "        else:\n",
    "            print(f\"⚠️ Extraction finished with warnings (return code: {result.returncode})\")\n",
    "            if result.stderr:\n",
    "                print(f\"Errors: {result.stderr}\")\n",
    "\n",
    "    except subprocess.TimeoutExpired:\n",
    "        print(\"❌ Extraction timed out after 5 minutes\")\n",
    "        print(\"💡 Try running the command manually or check if the ZIP file is corrupted\")\n",
    "    except Exception as e:\n",
    "        print(f\"❌ Extraction failed: {e}\")\n",
    "        print(\"💡 Trying to use existing files or manual extraction needed\")\n",
    "\n",
    "# Count extracted files and check their validity\n",
    "klk_files = list(output_dir.glob(\"*.cif\"))\n",
    "print(f\"📁 {len(klk_files)} protein structures ready\")"
   ]
  },
  {
   "cell_type": "markdown",
   "id": "5b485ee9",
   "metadata": {},
   "source": [
    "## 🎨 Create custom style"
   ]
  },
  {
   "cell_type": "code",
   "execution_count": null,
   "id": "cb5ce046",
   "metadata": {},
   "outputs": [],
   "source": [
    "# Create custom style file\n",
    "with open(f\"{tmp_path}overlay/style.toml\", \"w\") as f:\n",
    "    f.write(\"\"\"[helix]\n",
    "color = \"#FF6B6B\"\n",
    "opacity = 0.8\n",
    "\n",
    "[sheet]\n",
    "color = \"#4ECDC4\"\n",
    "opacity = 0.8\n",
    "\n",
    "[coil]\n",
    "color = \"#95A5A6\"\n",
    "opacity = 0.6\n",
    "\"\"\")\n",
    "print(f\"📝 Style file created at {tmp_path}overlay/style.toml\")"
   ]
  },
  {
   "cell_type": "markdown",
   "id": "e2f18a8f",
   "metadata": {},
   "source": [
    "## 🎯 **The Magic Command**\n",
    "\n",
    "This single command:\n",
    "1. Clusters similar structures\n",
    "2. Aligns to Trypsin family (3000114)\n",
    "3. Creates overlay with smart opacity\n",
    "4. Applies custom styling\n",
    "*Note: The first time you run this, it will take a while to download the database.*"
   ]
  },
  {
   "cell_type": "code",
   "execution_count": null,
   "id": "20fb2f77",
   "metadata": {},
   "outputs": [],
   "source": [
    "# Create the overlay!\n",
    "!uv run flatprot overlay \"{tmp_path}overlay/klk/*.cif\" -o \"{tmp_path}overlay/overlay.png\" --family 3000114 --style \"{tmp_path}overlay/style.toml\" --canvas-width 800 --canvas-height 600 --clustering --dpi 150 --quiet"
   ]
  },
  {
   "cell_type": "markdown",
   "id": "10cdbdbb",
   "metadata": {},
   "source": [
    "## 🎉 View your overlay"
   ]
  },
  {
   "cell_type": "code",
   "execution_count": null,
   "id": "0570e407",
   "metadata": {},
   "outputs": [],
   "source": [
    "from IPython.display import Image, display\n",
    "from pathlib import Path\n",
    "\n",
    "overlay_file = f\"{tmp_path}overlay/overlay.png\"\n",
    "if Path(overlay_file).exists():\n",
    "    display(Image(overlay_file))\n",
    "    print(\"🧬 KLK protein family overlay - multiple structures aligned and overlaid!\")\n",
    "    print(\"💡 Opacity shows cluster sizes - darker = more similar structures\")\n",
    "else:\n",
    "    print(\"❌ Overlay creation failed - check the command above\")"
   ]
  },
  {
   "cell_type": "markdown",
   "id": "0c1e5783",
   "metadata": {},
   "source": [
    "## 🎓 What happened?\n",
    "\n",
    "**In one command, FlatProt:**\n",
    "- Found similar protein structures automatically\n",
    "- Aligned them to a reference family framework\n",
    "- Created a overlay visualization\n",
    "- Applied your custom color scheme\n",
    "\n",
    "**What would normally take considerable time and effort!** ✨"
   ]
  }
 ],
 "metadata": {
  "jupytext": {
   "cell_metadata_filter": "-all",
   "main_language": "python",
   "notebook_metadata_filter": "-all"
  }
 },
 "nbformat": 4,
 "nbformat_minor": 5
}
