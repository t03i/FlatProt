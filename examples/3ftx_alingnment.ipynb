{
 "cells": [
  {
   "cell_type": "code",
   "execution_count": 1,
   "metadata": {},
   "outputs": [],
   "source": [
    "from pathlib import Path\n",
    "import os\n",
    "from IPython import get_ipython\n",
    "from IPython.core.magic import register_cell_magic\n",
    "\n",
    "ipython = get_ipython()\n",
    "\n",
    "\n",
    "@register_cell_magic\n",
    "def pybash(line, cell):\n",
    "    ipython.run_cell_magic(\"bash\", \"\", cell.format(**globals()))"
   ]
  },
  {
   "cell_type": "code",
   "execution_count": 2,
   "metadata": {},
   "outputs": [],
   "source": [
    "tmp_dir = Path(\"../tmp/3ftx_alignment\")\n",
    "data_dir = Path(\"../data/3Ftx\")\n",
    "\n",
    "cobra_file = data_dir / \"cobra.cif\"\n",
    "krait_file = data_dir / \"krait.cif\"\n",
    "snake_file = data_dir / \"snake.cif\"\n",
    "\n",
    "\n",
    "os.makedirs(tmp_dir, exist_ok=True)"
   ]
  },
  {
   "cell_type": "markdown",
   "metadata": {},
   "source": [
    "## Commandline Usage\n"
   ]
  },
  {
   "cell_type": "code",
   "execution_count": 3,
   "metadata": {},
   "outputs": [],
   "source": [
    "cobra_path = str(cobra_file)\n",
    "cobra_matrix = str(tmp_dir / \"cobra_matrix.npy\")\n",
    "cobra_info = str(tmp_dir / \"cobra_info.json\")\n",
    "cobra_out = str(tmp_dir / \"cobra.svg\")\n",
    "\n",
    "krait_path = str(krait_file)\n",
    "krait_matrix = str(tmp_dir / \"krait_matrix.npy\")\n",
    "krait_info = str(tmp_dir / \"krait_info.json\")\n",
    "krait_out = str(tmp_dir / \"krait.svg\")\n",
    "\n",
    "snake_path = str(snake_file)\n",
    "snake_matrix = str(tmp_dir / \"snake_matrix.npy\")\n",
    "snake_info = str(tmp_dir / \"snake_info.json\")\n",
    "snake_out = str(tmp_dir / \"snake.svg\")\n",
    "\n",
    "db_path = str(Path(\"../out/alignment_db_test\"))\n",
    "min_p = 0.001\n"
   ]
  },
  {
   "cell_type": "code",
   "execution_count": 4,
   "metadata": {
    "vscode": {
     "languageId": "shellscript"
    }
   },
   "outputs": [
    {
     "name": "stdout",
     "output_type": "stream",
     "text": [
      "\u001b[2;36m2025-04-07 11:39:13\u001b[0m\u001b[2;36m \u001b[0m\u001b[1;31mERROR   \u001b[0m No alignment found above \u001b[1;36m0.001\u001b[0m probability         \n",
      "\u001b[2;36m                    \u001b[0m         threshold                                          \n"
     ]
    },
    {
     "ename": "CalledProcessError",
     "evalue": "Command 'b'# Access Python variables in bash using curly braces\\n\\nuv run flatprot align ../data/3Ftx/cobra.cif ../tmp/3ftx_alignment/cobra_matrix.npy ../tmp/3ftx_alignment/cobra_info.json -d ../out/alignment_db_test --min-probability 0.001 --quiet\\nuv run flatprot align ../data/3Ftx/krait.cif ../tmp/3ftx_alignment/krait_matrix.npy ../tmp/3ftx_alignment/krait_info.json -d ../out/alignment_db_test --min-probability 0.001 --quiet\\nuv run flatprot align ../data/3Ftx/snake.cif ../tmp/3ftx_alignment/snake_matrix.npy ../tmp/3ftx_alignment/snake_info.json -d ../out/alignment_db_test --min-probability 0.001 --quiet\\n'' returned non-zero exit status 1.",
     "output_type": "error",
     "traceback": [
      "\u001b[0;31m---------------------------------------------------------------------------\u001b[0m",
      "\u001b[0;31mCalledProcessError\u001b[0m                        Traceback (most recent call last)",
      "Cell \u001b[0;32mIn[4], line 1\u001b[0m\n\u001b[0;32m----> 1\u001b[0m \u001b[43mget_ipython\u001b[49m\u001b[43m(\u001b[49m\u001b[43m)\u001b[49m\u001b[38;5;241;43m.\u001b[39;49m\u001b[43mrun_cell_magic\u001b[49m\u001b[43m(\u001b[49m\u001b[38;5;124;43m'\u001b[39;49m\u001b[38;5;124;43mpybash\u001b[39;49m\u001b[38;5;124;43m'\u001b[39;49m\u001b[43m,\u001b[49m\u001b[43m \u001b[49m\u001b[38;5;124;43m'\u001b[39;49m\u001b[38;5;124;43m'\u001b[39;49m\u001b[43m,\u001b[49m\u001b[43m \u001b[49m\u001b[38;5;124;43m'\u001b[39;49m\u001b[38;5;124;43m# Access Python variables in bash using curly braces\u001b[39;49m\u001b[38;5;130;43;01m\\n\u001b[39;49;00m\u001b[38;5;130;43;01m\\n\u001b[39;49;00m\u001b[38;5;124;43muv run flatprot align \u001b[39;49m\u001b[38;5;132;43;01m{cobra_path}\u001b[39;49;00m\u001b[38;5;124;43m \u001b[39;49m\u001b[38;5;132;43;01m{cobra_matrix}\u001b[39;49;00m\u001b[38;5;124;43m \u001b[39;49m\u001b[38;5;132;43;01m{cobra_info}\u001b[39;49;00m\u001b[38;5;124;43m -d \u001b[39;49m\u001b[38;5;132;43;01m{db_path}\u001b[39;49;00m\u001b[38;5;124;43m --min-probability \u001b[39;49m\u001b[38;5;132;43;01m{min_p}\u001b[39;49;00m\u001b[38;5;124;43m --quiet\u001b[39;49m\u001b[38;5;130;43;01m\\n\u001b[39;49;00m\u001b[38;5;124;43muv run flatprot align \u001b[39;49m\u001b[38;5;132;43;01m{krait_path}\u001b[39;49;00m\u001b[38;5;124;43m \u001b[39;49m\u001b[38;5;132;43;01m{krait_matrix}\u001b[39;49;00m\u001b[38;5;124;43m \u001b[39;49m\u001b[38;5;132;43;01m{krait_info}\u001b[39;49;00m\u001b[38;5;124;43m -d \u001b[39;49m\u001b[38;5;132;43;01m{db_path}\u001b[39;49;00m\u001b[38;5;124;43m --min-probability \u001b[39;49m\u001b[38;5;132;43;01m{min_p}\u001b[39;49;00m\u001b[38;5;124;43m --quiet\u001b[39;49m\u001b[38;5;130;43;01m\\n\u001b[39;49;00m\u001b[38;5;124;43muv run flatprot align \u001b[39;49m\u001b[38;5;132;43;01m{snake_path}\u001b[39;49;00m\u001b[38;5;124;43m \u001b[39;49m\u001b[38;5;132;43;01m{snake_matrix}\u001b[39;49;00m\u001b[38;5;124;43m \u001b[39;49m\u001b[38;5;132;43;01m{snake_info}\u001b[39;49;00m\u001b[38;5;124;43m -d \u001b[39;49m\u001b[38;5;132;43;01m{db_path}\u001b[39;49;00m\u001b[38;5;124;43m --min-probability \u001b[39;49m\u001b[38;5;132;43;01m{min_p}\u001b[39;49;00m\u001b[38;5;124;43m --quiet\u001b[39;49m\u001b[38;5;130;43;01m\\n\u001b[39;49;00m\u001b[38;5;124;43m'\u001b[39;49m\u001b[43m)\u001b[49m\n",
      "File \u001b[0;32m~/workspace/rostlab/FlatProt/.venv/lib/python3.12/site-packages/IPython/core/interactiveshell.py:2541\u001b[0m, in \u001b[0;36mInteractiveShell.run_cell_magic\u001b[0;34m(self, magic_name, line, cell)\u001b[0m\n\u001b[1;32m   2539\u001b[0m \u001b[38;5;28;01mwith\u001b[39;00m \u001b[38;5;28mself\u001b[39m\u001b[38;5;241m.\u001b[39mbuiltin_trap:\n\u001b[1;32m   2540\u001b[0m     args \u001b[38;5;241m=\u001b[39m (magic_arg_s, cell)\n\u001b[0;32m-> 2541\u001b[0m     result \u001b[38;5;241m=\u001b[39m \u001b[43mfn\u001b[49m\u001b[43m(\u001b[49m\u001b[38;5;241;43m*\u001b[39;49m\u001b[43margs\u001b[49m\u001b[43m,\u001b[49m\u001b[43m \u001b[49m\u001b[38;5;241;43m*\u001b[39;49m\u001b[38;5;241;43m*\u001b[39;49m\u001b[43mkwargs\u001b[49m\u001b[43m)\u001b[49m\n\u001b[1;32m   2543\u001b[0m \u001b[38;5;66;03m# The code below prevents the output from being displayed\u001b[39;00m\n\u001b[1;32m   2544\u001b[0m \u001b[38;5;66;03m# when using magics with decorator @output_can_be_silenced\u001b[39;00m\n\u001b[1;32m   2545\u001b[0m \u001b[38;5;66;03m# when the last Python token in the expression is a ';'.\u001b[39;00m\n\u001b[1;32m   2546\u001b[0m \u001b[38;5;28;01mif\u001b[39;00m \u001b[38;5;28mgetattr\u001b[39m(fn, magic\u001b[38;5;241m.\u001b[39mMAGIC_OUTPUT_CAN_BE_SILENCED, \u001b[38;5;28;01mFalse\u001b[39;00m):\n",
      "Cell \u001b[0;32mIn[1], line 11\u001b[0m, in \u001b[0;36mpybash\u001b[0;34m(line, cell)\u001b[0m\n\u001b[1;32m      9\u001b[0m \u001b[38;5;129m@register_cell_magic\u001b[39m\n\u001b[1;32m     10\u001b[0m \u001b[38;5;28;01mdef\u001b[39;00m \u001b[38;5;21mpybash\u001b[39m(line, cell):\n\u001b[0;32m---> 11\u001b[0m     \u001b[43mipython\u001b[49m\u001b[38;5;241;43m.\u001b[39;49m\u001b[43mrun_cell_magic\u001b[49m\u001b[43m(\u001b[49m\u001b[38;5;124;43m\"\u001b[39;49m\u001b[38;5;124;43mbash\u001b[39;49m\u001b[38;5;124;43m\"\u001b[39;49m\u001b[43m,\u001b[49m\u001b[43m \u001b[49m\u001b[38;5;124;43m\"\u001b[39;49m\u001b[38;5;124;43m\"\u001b[39;49m\u001b[43m,\u001b[49m\u001b[43m \u001b[49m\u001b[43mcell\u001b[49m\u001b[38;5;241;43m.\u001b[39;49m\u001b[43mformat\u001b[49m\u001b[43m(\u001b[49m\u001b[38;5;241;43m*\u001b[39;49m\u001b[38;5;241;43m*\u001b[39;49m\u001b[38;5;28;43mglobals\u001b[39;49m\u001b[43m(\u001b[49m\u001b[43m)\u001b[49m\u001b[43m)\u001b[49m\u001b[43m)\u001b[49m\n",
      "File \u001b[0;32m~/workspace/rostlab/FlatProt/.venv/lib/python3.12/site-packages/IPython/core/interactiveshell.py:2541\u001b[0m, in \u001b[0;36mInteractiveShell.run_cell_magic\u001b[0;34m(self, magic_name, line, cell)\u001b[0m\n\u001b[1;32m   2539\u001b[0m \u001b[38;5;28;01mwith\u001b[39;00m \u001b[38;5;28mself\u001b[39m\u001b[38;5;241m.\u001b[39mbuiltin_trap:\n\u001b[1;32m   2540\u001b[0m     args \u001b[38;5;241m=\u001b[39m (magic_arg_s, cell)\n\u001b[0;32m-> 2541\u001b[0m     result \u001b[38;5;241m=\u001b[39m \u001b[43mfn\u001b[49m\u001b[43m(\u001b[49m\u001b[38;5;241;43m*\u001b[39;49m\u001b[43margs\u001b[49m\u001b[43m,\u001b[49m\u001b[43m \u001b[49m\u001b[38;5;241;43m*\u001b[39;49m\u001b[38;5;241;43m*\u001b[39;49m\u001b[43mkwargs\u001b[49m\u001b[43m)\u001b[49m\n\u001b[1;32m   2543\u001b[0m \u001b[38;5;66;03m# The code below prevents the output from being displayed\u001b[39;00m\n\u001b[1;32m   2544\u001b[0m \u001b[38;5;66;03m# when using magics with decorator @output_can_be_silenced\u001b[39;00m\n\u001b[1;32m   2545\u001b[0m \u001b[38;5;66;03m# when the last Python token in the expression is a ';'.\u001b[39;00m\n\u001b[1;32m   2546\u001b[0m \u001b[38;5;28;01mif\u001b[39;00m \u001b[38;5;28mgetattr\u001b[39m(fn, magic\u001b[38;5;241m.\u001b[39mMAGIC_OUTPUT_CAN_BE_SILENCED, \u001b[38;5;28;01mFalse\u001b[39;00m):\n",
      "File \u001b[0;32m~/workspace/rostlab/FlatProt/.venv/lib/python3.12/site-packages/IPython/core/magics/script.py:155\u001b[0m, in \u001b[0;36mScriptMagics._make_script_magic.<locals>.named_script_magic\u001b[0;34m(line, cell)\u001b[0m\n\u001b[1;32m    153\u001b[0m \u001b[38;5;28;01melse\u001b[39;00m:\n\u001b[1;32m    154\u001b[0m     line \u001b[38;5;241m=\u001b[39m script\n\u001b[0;32m--> 155\u001b[0m \u001b[38;5;28;01mreturn\u001b[39;00m \u001b[38;5;28;43mself\u001b[39;49m\u001b[38;5;241;43m.\u001b[39;49m\u001b[43mshebang\u001b[49m\u001b[43m(\u001b[49m\u001b[43mline\u001b[49m\u001b[43m,\u001b[49m\u001b[43m \u001b[49m\u001b[43mcell\u001b[49m\u001b[43m)\u001b[49m\n",
      "File \u001b[0;32m~/workspace/rostlab/FlatProt/.venv/lib/python3.12/site-packages/IPython/core/magics/script.py:315\u001b[0m, in \u001b[0;36mScriptMagics.shebang\u001b[0;34m(self, line, cell)\u001b[0m\n\u001b[1;32m    310\u001b[0m \u001b[38;5;28;01mif\u001b[39;00m args\u001b[38;5;241m.\u001b[39mraise_error \u001b[38;5;129;01mand\u001b[39;00m p\u001b[38;5;241m.\u001b[39mreturncode \u001b[38;5;241m!=\u001b[39m \u001b[38;5;241m0\u001b[39m:\n\u001b[1;32m    311\u001b[0m     \u001b[38;5;66;03m# If we get here and p.returncode is still None, we must have\u001b[39;00m\n\u001b[1;32m    312\u001b[0m     \u001b[38;5;66;03m# killed it but not yet seen its return code. We don't wait for it,\u001b[39;00m\n\u001b[1;32m    313\u001b[0m     \u001b[38;5;66;03m# in case it's stuck in uninterruptible sleep. -9 = SIGKILL\u001b[39;00m\n\u001b[1;32m    314\u001b[0m     rc \u001b[38;5;241m=\u001b[39m p\u001b[38;5;241m.\u001b[39mreturncode \u001b[38;5;129;01mor\u001b[39;00m \u001b[38;5;241m-\u001b[39m\u001b[38;5;241m9\u001b[39m\n\u001b[0;32m--> 315\u001b[0m     \u001b[38;5;28;01mraise\u001b[39;00m CalledProcessError(rc, cell)\n",
      "\u001b[0;31mCalledProcessError\u001b[0m: Command 'b'# Access Python variables in bash using curly braces\\n\\nuv run flatprot align ../data/3Ftx/cobra.cif ../tmp/3ftx_alignment/cobra_matrix.npy ../tmp/3ftx_alignment/cobra_info.json -d ../out/alignment_db_test --min-probability 0.001 --quiet\\nuv run flatprot align ../data/3Ftx/krait.cif ../tmp/3ftx_alignment/krait_matrix.npy ../tmp/3ftx_alignment/krait_info.json -d ../out/alignment_db_test --min-probability 0.001 --quiet\\nuv run flatprot align ../data/3Ftx/snake.cif ../tmp/3ftx_alignment/snake_matrix.npy ../tmp/3ftx_alignment/snake_info.json -d ../out/alignment_db_test --min-probability 0.001 --quiet\\n'' returned non-zero exit status 1."
     ]
    }
   ],
   "source": [
    "%%pybash\n",
    "# Access Python variables in bash using curly braces\n",
    "\n",
    "uv run flatprot align {cobra_path} {cobra_matrix} {cobra_info} -d {db_path} --min-probability {min_p} --quiet\n",
    "uv run flatprot align {krait_path} {krait_matrix} {krait_info} -d {db_path} --min-probability {min_p} --quiet\n",
    "uv run flatprot align {snake_path} {snake_matrix} {snake_info} -d {db_path} --min-probability {min_p} --quiet\n"
   ]
  },
  {
   "cell_type": "code",
   "execution_count": 5,
   "metadata": {},
   "outputs": [
    {
     "name": "stdout",
     "output_type": "stream",
     "text": [
      "\u001b[2;36m2025-04-07 11:39:28\u001b[0m\u001b[2;36m \u001b[0m\u001b[1;31mERROR   \u001b[0m Error applying transformation: \u001b[32m'Structure'\u001b[0m object  \n",
      "\u001b[2;36m                    \u001b[0m         has no attribute \u001b[32m'chains'\u001b[0m                          \n",
      "\u001b[2;36m2025-04-07 11:39:28\u001b[0m\u001b[2;36m \u001b[0m\u001b[1;31mERROR   \u001b[0m Transformation error: Failed to apply              \n",
      "\u001b[2;36m                    \u001b[0m         transformation: \u001b[32m'Structure'\u001b[0m object has no attribute\n",
      "\u001b[2;36m                    \u001b[0m         \u001b[32m'chains'\u001b[0m                                           \n",
      "\u001b[2;36m2025-04-07 11:39:29\u001b[0m\u001b[2;36m \u001b[0m\u001b[1;31mERROR   \u001b[0m Error applying transformation: \u001b[32m'Structure'\u001b[0m object  \n",
      "\u001b[2;36m                    \u001b[0m         has no attribute \u001b[32m'chains'\u001b[0m                          \n",
      "\u001b[2;36m2025-04-07 11:39:29\u001b[0m\u001b[2;36m \u001b[0m\u001b[1;31mERROR   \u001b[0m Transformation error: Failed to apply              \n",
      "\u001b[2;36m                    \u001b[0m         transformation: \u001b[32m'Structure'\u001b[0m object has no attribute\n",
      "\u001b[2;36m                    \u001b[0m         \u001b[32m'chains'\u001b[0m                                           \n",
      "\u001b[2;36m2025-04-07 11:39:30\u001b[0m\u001b[2;36m \u001b[0m\u001b[1;31mERROR   \u001b[0m IO error: File not found:                          \n",
      "\u001b[2;36m                    \u001b[0m         ..\u001b[35m/tmp/3ftx_alignment/\u001b[0m\u001b[95msnake_matrix.npy\u001b[0m             \n",
      "\u001b[2;36m                    \u001b[0m         Please check that the file exists and the path is  \n",
      "\u001b[2;36m                    \u001b[0m         correct.                                           \n"
     ]
    },
    {
     "ename": "CalledProcessError",
     "evalue": "Command 'b'uv run flatprot project ../data/3Ftx/cobra.cif -o ../tmp/3ftx_alignment/cobra.svg --matrix ../tmp/3ftx_alignment/cobra_matrix.npy --quiet\\nuv run flatprot project ../data/3Ftx/krait.cif -o ../tmp/3ftx_alignment/krait.svg --matrix ../tmp/3ftx_alignment/krait_matrix.npy --quiet\\nuv run flatprot project ../data/3Ftx/snake.cif -o ../tmp/3ftx_alignment/snake.svg --matrix ../tmp/3ftx_alignment/snake_matrix.npy --quiet\\n'' returned non-zero exit status 1.",
     "output_type": "error",
     "traceback": [
      "\u001b[0;31m---------------------------------------------------------------------------\u001b[0m",
      "\u001b[0;31mCalledProcessError\u001b[0m                        Traceback (most recent call last)",
      "Cell \u001b[0;32mIn[5], line 1\u001b[0m\n\u001b[0;32m----> 1\u001b[0m \u001b[43mget_ipython\u001b[49m\u001b[43m(\u001b[49m\u001b[43m)\u001b[49m\u001b[38;5;241;43m.\u001b[39;49m\u001b[43mrun_cell_magic\u001b[49m\u001b[43m(\u001b[49m\u001b[38;5;124;43m'\u001b[39;49m\u001b[38;5;124;43mpybash\u001b[39;49m\u001b[38;5;124;43m'\u001b[39;49m\u001b[43m,\u001b[49m\u001b[43m \u001b[49m\u001b[38;5;124;43m'\u001b[39;49m\u001b[38;5;124;43m'\u001b[39;49m\u001b[43m,\u001b[49m\u001b[43m \u001b[49m\u001b[38;5;124;43m'\u001b[39;49m\u001b[38;5;124;43muv run flatprot project \u001b[39;49m\u001b[38;5;132;43;01m{cobra_path}\u001b[39;49;00m\u001b[38;5;124;43m -o \u001b[39;49m\u001b[38;5;132;43;01m{cobra_out}\u001b[39;49;00m\u001b[38;5;124;43m --matrix \u001b[39;49m\u001b[38;5;132;43;01m{cobra_matrix}\u001b[39;49;00m\u001b[38;5;124;43m --quiet\u001b[39;49m\u001b[38;5;130;43;01m\\n\u001b[39;49;00m\u001b[38;5;124;43muv run flatprot project \u001b[39;49m\u001b[38;5;132;43;01m{krait_path}\u001b[39;49;00m\u001b[38;5;124;43m -o \u001b[39;49m\u001b[38;5;132;43;01m{krait_out}\u001b[39;49;00m\u001b[38;5;124;43m --matrix \u001b[39;49m\u001b[38;5;132;43;01m{krait_matrix}\u001b[39;49;00m\u001b[38;5;124;43m --quiet\u001b[39;49m\u001b[38;5;130;43;01m\\n\u001b[39;49;00m\u001b[38;5;124;43muv run flatprot project \u001b[39;49m\u001b[38;5;132;43;01m{snake_path}\u001b[39;49;00m\u001b[38;5;124;43m -o \u001b[39;49m\u001b[38;5;132;43;01m{snake_out}\u001b[39;49;00m\u001b[38;5;124;43m --matrix \u001b[39;49m\u001b[38;5;132;43;01m{snake_matrix}\u001b[39;49;00m\u001b[38;5;124;43m --quiet\u001b[39;49m\u001b[38;5;130;43;01m\\n\u001b[39;49;00m\u001b[38;5;124;43m'\u001b[39;49m\u001b[43m)\u001b[49m\n",
      "File \u001b[0;32m~/workspace/rostlab/FlatProt/.venv/lib/python3.12/site-packages/IPython/core/interactiveshell.py:2541\u001b[0m, in \u001b[0;36mInteractiveShell.run_cell_magic\u001b[0;34m(self, magic_name, line, cell)\u001b[0m\n\u001b[1;32m   2539\u001b[0m \u001b[38;5;28;01mwith\u001b[39;00m \u001b[38;5;28mself\u001b[39m\u001b[38;5;241m.\u001b[39mbuiltin_trap:\n\u001b[1;32m   2540\u001b[0m     args \u001b[38;5;241m=\u001b[39m (magic_arg_s, cell)\n\u001b[0;32m-> 2541\u001b[0m     result \u001b[38;5;241m=\u001b[39m \u001b[43mfn\u001b[49m\u001b[43m(\u001b[49m\u001b[38;5;241;43m*\u001b[39;49m\u001b[43margs\u001b[49m\u001b[43m,\u001b[49m\u001b[43m \u001b[49m\u001b[38;5;241;43m*\u001b[39;49m\u001b[38;5;241;43m*\u001b[39;49m\u001b[43mkwargs\u001b[49m\u001b[43m)\u001b[49m\n\u001b[1;32m   2543\u001b[0m \u001b[38;5;66;03m# The code below prevents the output from being displayed\u001b[39;00m\n\u001b[1;32m   2544\u001b[0m \u001b[38;5;66;03m# when using magics with decorator @output_can_be_silenced\u001b[39;00m\n\u001b[1;32m   2545\u001b[0m \u001b[38;5;66;03m# when the last Python token in the expression is a ';'.\u001b[39;00m\n\u001b[1;32m   2546\u001b[0m \u001b[38;5;28;01mif\u001b[39;00m \u001b[38;5;28mgetattr\u001b[39m(fn, magic\u001b[38;5;241m.\u001b[39mMAGIC_OUTPUT_CAN_BE_SILENCED, \u001b[38;5;28;01mFalse\u001b[39;00m):\n",
      "Cell \u001b[0;32mIn[1], line 11\u001b[0m, in \u001b[0;36mpybash\u001b[0;34m(line, cell)\u001b[0m\n\u001b[1;32m      9\u001b[0m \u001b[38;5;129m@register_cell_magic\u001b[39m\n\u001b[1;32m     10\u001b[0m \u001b[38;5;28;01mdef\u001b[39;00m \u001b[38;5;21mpybash\u001b[39m(line, cell):\n\u001b[0;32m---> 11\u001b[0m     \u001b[43mipython\u001b[49m\u001b[38;5;241;43m.\u001b[39;49m\u001b[43mrun_cell_magic\u001b[49m\u001b[43m(\u001b[49m\u001b[38;5;124;43m\"\u001b[39;49m\u001b[38;5;124;43mbash\u001b[39;49m\u001b[38;5;124;43m\"\u001b[39;49m\u001b[43m,\u001b[49m\u001b[43m \u001b[49m\u001b[38;5;124;43m\"\u001b[39;49m\u001b[38;5;124;43m\"\u001b[39;49m\u001b[43m,\u001b[49m\u001b[43m \u001b[49m\u001b[43mcell\u001b[49m\u001b[38;5;241;43m.\u001b[39;49m\u001b[43mformat\u001b[49m\u001b[43m(\u001b[49m\u001b[38;5;241;43m*\u001b[39;49m\u001b[38;5;241;43m*\u001b[39;49m\u001b[38;5;28;43mglobals\u001b[39;49m\u001b[43m(\u001b[49m\u001b[43m)\u001b[49m\u001b[43m)\u001b[49m\u001b[43m)\u001b[49m\n",
      "File \u001b[0;32m~/workspace/rostlab/FlatProt/.venv/lib/python3.12/site-packages/IPython/core/interactiveshell.py:2541\u001b[0m, in \u001b[0;36mInteractiveShell.run_cell_magic\u001b[0;34m(self, magic_name, line, cell)\u001b[0m\n\u001b[1;32m   2539\u001b[0m \u001b[38;5;28;01mwith\u001b[39;00m \u001b[38;5;28mself\u001b[39m\u001b[38;5;241m.\u001b[39mbuiltin_trap:\n\u001b[1;32m   2540\u001b[0m     args \u001b[38;5;241m=\u001b[39m (magic_arg_s, cell)\n\u001b[0;32m-> 2541\u001b[0m     result \u001b[38;5;241m=\u001b[39m \u001b[43mfn\u001b[49m\u001b[43m(\u001b[49m\u001b[38;5;241;43m*\u001b[39;49m\u001b[43margs\u001b[49m\u001b[43m,\u001b[49m\u001b[43m \u001b[49m\u001b[38;5;241;43m*\u001b[39;49m\u001b[38;5;241;43m*\u001b[39;49m\u001b[43mkwargs\u001b[49m\u001b[43m)\u001b[49m\n\u001b[1;32m   2543\u001b[0m \u001b[38;5;66;03m# The code below prevents the output from being displayed\u001b[39;00m\n\u001b[1;32m   2544\u001b[0m \u001b[38;5;66;03m# when using magics with decorator @output_can_be_silenced\u001b[39;00m\n\u001b[1;32m   2545\u001b[0m \u001b[38;5;66;03m# when the last Python token in the expression is a ';'.\u001b[39;00m\n\u001b[1;32m   2546\u001b[0m \u001b[38;5;28;01mif\u001b[39;00m \u001b[38;5;28mgetattr\u001b[39m(fn, magic\u001b[38;5;241m.\u001b[39mMAGIC_OUTPUT_CAN_BE_SILENCED, \u001b[38;5;28;01mFalse\u001b[39;00m):\n",
      "File \u001b[0;32m~/workspace/rostlab/FlatProt/.venv/lib/python3.12/site-packages/IPython/core/magics/script.py:155\u001b[0m, in \u001b[0;36mScriptMagics._make_script_magic.<locals>.named_script_magic\u001b[0;34m(line, cell)\u001b[0m\n\u001b[1;32m    153\u001b[0m \u001b[38;5;28;01melse\u001b[39;00m:\n\u001b[1;32m    154\u001b[0m     line \u001b[38;5;241m=\u001b[39m script\n\u001b[0;32m--> 155\u001b[0m \u001b[38;5;28;01mreturn\u001b[39;00m \u001b[38;5;28;43mself\u001b[39;49m\u001b[38;5;241;43m.\u001b[39;49m\u001b[43mshebang\u001b[49m\u001b[43m(\u001b[49m\u001b[43mline\u001b[49m\u001b[43m,\u001b[49m\u001b[43m \u001b[49m\u001b[43mcell\u001b[49m\u001b[43m)\u001b[49m\n",
      "File \u001b[0;32m~/workspace/rostlab/FlatProt/.venv/lib/python3.12/site-packages/IPython/core/magics/script.py:315\u001b[0m, in \u001b[0;36mScriptMagics.shebang\u001b[0;34m(self, line, cell)\u001b[0m\n\u001b[1;32m    310\u001b[0m \u001b[38;5;28;01mif\u001b[39;00m args\u001b[38;5;241m.\u001b[39mraise_error \u001b[38;5;129;01mand\u001b[39;00m p\u001b[38;5;241m.\u001b[39mreturncode \u001b[38;5;241m!=\u001b[39m \u001b[38;5;241m0\u001b[39m:\n\u001b[1;32m    311\u001b[0m     \u001b[38;5;66;03m# If we get here and p.returncode is still None, we must have\u001b[39;00m\n\u001b[1;32m    312\u001b[0m     \u001b[38;5;66;03m# killed it but not yet seen its return code. We don't wait for it,\u001b[39;00m\n\u001b[1;32m    313\u001b[0m     \u001b[38;5;66;03m# in case it's stuck in uninterruptible sleep. -9 = SIGKILL\u001b[39;00m\n\u001b[1;32m    314\u001b[0m     rc \u001b[38;5;241m=\u001b[39m p\u001b[38;5;241m.\u001b[39mreturncode \u001b[38;5;129;01mor\u001b[39;00m \u001b[38;5;241m-\u001b[39m\u001b[38;5;241m9\u001b[39m\n\u001b[0;32m--> 315\u001b[0m     \u001b[38;5;28;01mraise\u001b[39;00m CalledProcessError(rc, cell)\n",
      "\u001b[0;31mCalledProcessError\u001b[0m: Command 'b'uv run flatprot project ../data/3Ftx/cobra.cif -o ../tmp/3ftx_alignment/cobra.svg --matrix ../tmp/3ftx_alignment/cobra_matrix.npy --quiet\\nuv run flatprot project ../data/3Ftx/krait.cif -o ../tmp/3ftx_alignment/krait.svg --matrix ../tmp/3ftx_alignment/krait_matrix.npy --quiet\\nuv run flatprot project ../data/3Ftx/snake.cif -o ../tmp/3ftx_alignment/snake.svg --matrix ../tmp/3ftx_alignment/snake_matrix.npy --quiet\\n'' returned non-zero exit status 1."
     ]
    }
   ],
   "source": [
    "%%pybash\n",
    "uv run flatprot project {cobra_path} -o {cobra_out} --matrix {cobra_matrix} --quiet\n",
    "uv run flatprot project {krait_path} -o {krait_out} --matrix {krait_matrix} --quiet\n",
    "uv run flatprot project {snake_path} -o {snake_out} --matrix {snake_matrix} --quiet\n"
   ]
  },
  {
   "cell_type": "code",
   "execution_count": 44,
   "metadata": {},
   "outputs": [
    {
     "data": {
      "text/html": [
       "<div style=\"display: flex; justify-content: space-between;\">\n",
       "        <div style=\"width: 30%; border: 1px solid black; text-align: center; border-radius: 20% 0 20% 0\">\n",
       "            <h3>Cobra</h3>\n",
       "            <?xml version=\"1.0\" encoding=\"UTF-8\"?>\n",
       "<svg style=\"width:100%; height:auto;\" xmlns=\"http://www.w3.org/2000/svg\" xmlns:xlink=\"http://www.w3.org/1999/xlink\"\n",
       "     width=\"1024\" height=\"1024\" viewBox=\"-512.0 -512.0 1024 1024\">\n",
       "<defs>\n",
       "</defs>\n",
       "<rect x=\"-512.0\" y=\"-512.0\" width=\"1024\" height=\"1024\" fill=\"white\" opacity=\"0.0\" class=\"background\" />\n",
       "<g id=\"root\">\n",
       "<g id=\"A\">\n",
       "<path d=\"M-28.928125706808167,-211.9289577837173 L33.52703758860817,-74.36466733547185\" stroke=\"#333\" stroke-width=\"5.0\" fill=\"none\" class=\"element coil\" linecap=\"round\" />\n",
       "<path d=\"M-19.0733100276219,100.87985936458473 L122.14479809549253,209.31729100914788\" stroke=\"#333\" stroke-width=\"5.0\" fill=\"none\" class=\"element coil\" linecap=\"round\" />\n",
       "<path d=\"M52.578086923041006,104.6843596558858 L-19.0733100276219,100.87985936458473\" stroke=\"#44f\" stroke-width=\"2.5\" class=\"element sheet short-element\" linecap=\"round\" />\n",
       "<path d=\"M-177.67151338628958,-233.17217228611366 L-81.81356020212398,-163.59471665558976\" stroke=\"#333\" stroke-width=\"5.0\" fill=\"none\" class=\"element coil\" linecap=\"round\" />\n",
       "<path d=\"M17.33374494063622,-93.41138025967842 L49.72033023658011,-55.317954411265276 L-110.15886072382439,47.79540353969121 Z\" stroke=\"#333\" stroke-width=\"2.5\" fill=\"#44f\" class=\"element sheet\" />\n",
       "<path d=\"M19.515484706076226,53.60482141667716 L-30.292356897126975,57.984195210979344 L-28.928125706808167,-211.9289577837173 Z\" stroke=\"#333\" stroke-width=\"2.5\" fill=\"#44f\" class=\"element sheet\" />\n",
       "<path d=\"M117.22264121763462,185.49037372514985 L71.78973139484197,206.3674114708165 L52.578086923041006,104.6843596558858 Z\" stroke=\"#333\" stroke-width=\"2.5\" fill=\"#44f\" class=\"element sheet\" />\n",
       "<path d=\"M122.99269076496952,184.33167358589722 L121.29690542601554,234.30290843239854 L-22.09730212116706,204.4224021884353 Z\" stroke=\"#333\" stroke-width=\"2.5\" fill=\"#44f\" class=\"element sheet\" />\n",
       "<path d=\"M-102.34595604687908,-149.33215304050697 L-61.28116435736888,-177.85728027067256 L62.810617658459655,44.606343735511004 Z\" stroke=\"#333\" stroke-width=\"2.5\" fill=\"#44f\" class=\"element sheet\" />\n",
       "<path d=\"M-72.80944849431381,-19.433676560964546 L-62.89714418158103,-65.08271855038961 L-123.41450734100789,-84.95072216349983 L-90.02564720422188,-139.19344361169652 L-150.54301036364873,-159.06144722480676 L-117.15415022686273,-213.30416867300346 L-154.19495756223637,-241.76585174488528 L-201.14806921034278,-224.57849282734205 L-164.10726187496914,-196.11680975546022 L-197.49612201175515,-141.87408830726352 L-136.9787588523283,-122.00608469415329 L-170.3676189891143,-67.7633632459566 L-109.85025582968744,-47.89535963284638 L-119.76256014242023,-2.246317643421307 Z\" stroke=\"#333\" stroke-width=\"2.5\" fill=\"#f44\" class=\"element helix\" />\n",
       "<path d=\"M62.810617658459655,44.606343735511004 L195.80621603641833,21.46530797260262\" stroke=\"#333\" stroke-width=\"5.0\" fill=\"none\" class=\"element coil\" linecap=\"round\" />\n",
       "<path d=\"M56.713469030228794,183.44287158664636 L94.50618630623829,195.92889259798318\" stroke=\"#333\" stroke-width=\"5.0\" fill=\"none\" class=\"element coil\" linecap=\"round\" />\n",
       "<path d=\"M-22.09730212116706,204.4224021884353 L-107.05848630993674,220.56742313128862\" stroke=\"#f44\" stroke-width=\"2.5\" class=\"element helix short-element\" linecap=\"round\" />\n",
       "<path d=\"M-110.15886072382439,47.79540353969121 L-96.28600431836702,-10.839997102192926\" stroke=\"#333\" stroke-width=\"5.0\" fill=\"none\" class=\"element coil\" linecap=\"round\" />\n",
       "<path d=\"M-107.05848630993674,220.56742313128862 L-5.388436095525375,55.79450831382825\" stroke=\"#333\" stroke-width=\"5.0\" fill=\"none\" class=\"element coil\" linecap=\"round\" />\n",
       "</g>\n",
       "</g>\n",
       "</svg>\n",
       "        </div>\n",
       "        \n",
       "        <div style=\"width: 30%; border: 1px solid black; text-align: center; border-radius: 20% 0 20% 0\">\n",
       "            <h3>Krait</h3>\n",
       "            <?xml version=\"1.0\" encoding=\"UTF-8\"?>\n",
       "<svg style=\"width:100%; height:auto;\" xmlns=\"http://www.w3.org/2000/svg\" xmlns:xlink=\"http://www.w3.org/1999/xlink\"\n",
       "     width=\"1024\" height=\"1024\" viewBox=\"-512.0 -512.0 1024 1024\">\n",
       "<defs>\n",
       "</defs>\n",
       "<rect x=\"-512.0\" y=\"-512.0\" width=\"1024\" height=\"1024\" fill=\"white\" opacity=\"0.0\" class=\"background\" />\n",
       "<g id=\"root\">\n",
       "<g id=\"A\">\n",
       "<path d=\"M103.75545007485033,85.6720306353324 L123.45434878311072,10.144618206915615\" stroke=\"#333\" stroke-width=\"5.0\" fill=\"none\" class=\"element coil\" linecap=\"round\" />\n",
       "<path d=\"M263.1681151810731,-124.36318687384653 L263.3264472955581,-161.93350251556777 L226.0211312857513,-166.39075322486022 L188.55748316145943,-133.27768829243146 L225.86279917126626,-128.820437583139 L225.70446705678123,-91.2501219414178 Z\" stroke=\"#333\" stroke-width=\"2.5\" fill=\"#f44\" class=\"element helix\" />\n",
       "<path d=\"M205.5547523560247,-48.872048399154075 L244.43629111892716,-107.80665440763217\" stroke=\"#333\" stroke-width=\"5.0\" fill=\"none\" class=\"element coil\" linecap=\"round\" />\n",
       "<path d=\"M207.28930722360536,-149.83422075864584 L185.883199046021,-102.53441802862635\" stroke=\"#333\" stroke-width=\"5.0\" fill=\"none\" class=\"element coil\" linecap=\"round\" />\n",
       "<path d=\"M185.883199046021,-102.53441802862635 L197.6337369702022,-81.14988116042721\" stroke=\"#f44\" stroke-width=\"2.5\" class=\"element helix short-element\" linecap=\"round\" />\n",
       "<path d=\"M-3.6184996632161637,97.91627157550502 L45.58286546757182,129.02490862223752 L100.76504358268683,110.49253564654494 L106.74585656701383,60.85152562411987 L51.56367845189884,79.38389859981245 L2.3623133211108476,48.27526155307996 Z\" stroke=\"#333\" stroke-width=\"2.5\" fill=\"#f44\" class=\"element helix\" />\n",
       "<path d=\"M127.534702296155,-14.520148469633083 L119.37399527006643,34.80938488346431 L-87.59876633113231,-24.770421979300455 Z\" stroke=\"#333\" stroke-width=\"2.5\" fill=\"#44f\" class=\"element sheet\" />\n",
       "<path d=\"M-24.929108878744305,40.32921597080992 L-38.16615801558239,-7.886761984105959 L205.5547523560247,-48.872048399154075 Z\" stroke=\"#333\" stroke-width=\"2.5\" fill=\"#44f\" class=\"element sheet\" />\n",
       "<path d=\"M181.10345029745918,-99.90487043040375 L214.1640236429452,-62.39489189045068 L-1.8792157563083154,94.69699649010678 Z\" stroke=\"#333\" stroke-width=\"2.5\" fill=\"#44f\" class=\"element sheet\" />\n",
       "<path d=\"M-1.8792157563083154,94.69699649010678 L-0.6280931710526579,73.09576656429249\" stroke=\"#333\" stroke-width=\"5.0\" fill=\"none\" class=\"element coil\" linecap=\"round\" />\n",
       "<path d=\"M-87.59876633113231,-24.770421979300455 L27.878465760276068,-145.34797743399852\" stroke=\"#333\" stroke-width=\"5.0\" fill=\"none\" class=\"element coil\" linecap=\"round\" />\n",
       "<path d=\"M152.42986025590872,-92.66836750069655 L99.3593474646163,-156.64395293706502\" stroke=\"#333\" stroke-width=\"5.0\" fill=\"none\" class=\"element coil\" linecap=\"round\" />\n",
       "<path d=\"M-10.080706136663263,-52.22935986124925 L-14.775883837136458,-102.00842480185433 L152.42986025590872,-92.66836750069655 Z\" stroke=\"#333\" stroke-width=\"2.5\" fill=\"#44f\" class=\"element sheet\" />\n",
       "<path d=\"M-7.789933394301795,65.2289409669278 L-31.547633447163346,16.22122699335198\" stroke=\"#333\" stroke-width=\"5.0\" fill=\"none\" class=\"element coil\" linecap=\"round\" />\n",
       "<path d=\"M76.95029380215857,-167.72701722241004 L121.76840112707404,-145.56088865172 L26.629646608136056,-9.590419059937489 Z\" stroke=\"#333\" stroke-width=\"2.5\" fill=\"#44f\" class=\"element sheet\" />\n",
       "<path d=\"M26.629646608136056,-9.590419059937489 L-7.789933394301795,65.2289409669278\" stroke=\"#f44\" stroke-width=\"2.5\" class=\"element helix short-element\" linecap=\"round\" />\n",
       "<path d=\"M-171.2104932269021,67.05741073105021 L-12.42829498689986,-77.11889233155179\" stroke=\"#333\" stroke-width=\"5.0\" fill=\"none\" class=\"element coil\" linecap=\"round\" />\n",
       "<path d=\"M-351.74578622919023,262.05865102067986 L-302.2130728361097,251.29884067151764 L-302.677925452827,184.635153953217 L-236.47935672314725,192.50996906043423 L-236.94420933986459,125.8462823421336 L-170.74564061018475,133.72109744935082 L-154.5446378903028,85.69203618742965 L-187.87634856350138,48.422785274670744 L-204.07735128338334,96.45184653659192 L-270.27592001306317,88.5770314293747 L-269.81106739634583,155.2407181476753 L-336.0096361260256,147.36590304045808 L-335.5447835093083,214.0295897587587 L-385.0774969023888,224.78940010792093 Z\" stroke=\"#333\" stroke-width=\"2.5\" fill=\"#f44\" class=\"element helix\" />\n",
       "<path d=\"M-416.7620850938529,237.9871052220224 L-368.4116415657895,243.4240255643004\" stroke=\"#333\" stroke-width=\"5.0\" fill=\"none\" class=\"element coil\" linecap=\"round\" />\n",
       "</g>\n",
       "</g>\n",
       "</svg>\n",
       "        </div>\n",
       "        </div>"
      ],
      "text/plain": [
       "<IPython.core.display.HTML object>"
      ]
     },
     "metadata": {},
     "output_type": "display_data"
    }
   ],
   "source": [
    "# Display the three generated SVGs next to each other\n",
    "from IPython.display import display, HTML\n",
    "\n",
    "\n",
    "def display_svg_files(svg_files, titles=None, width=\"30%\"):\n",
    "    \"\"\"\n",
    "    Display multiple SVG files side by side.\n",
    "\n",
    "    Args:\n",
    "        svg_files: List of paths to SVG files\n",
    "        titles: Optional list of titles for each SVG\n",
    "        width: Width of each SVG (as CSS value)\n",
    "    \"\"\"\n",
    "    if titles is None:\n",
    "        titles = [f\"SVG {i + 1}\" for i in range(len(svg_files))]\n",
    "\n",
    "    html = '<div style=\"display: flex; justify-content: space-between;\">'\n",
    "\n",
    "    for i, (svg_file, title) in enumerate(zip(svg_files, titles)):\n",
    "        with open(svg_file, \"r\") as f:\n",
    "            svg_content = f.read()\n",
    "\n",
    "        # Modify SVG to constrain its width\n",
    "        svg_content = svg_content.replace(\n",
    "            \"<svg \", f'<svg style=\"width:100%; height:auto;\" '\n",
    "        )\n",
    "\n",
    "        html += f\"\"\"\n",
    "        <div style=\"width: {width}; border: 1px solid black; text-align: center; border-radius: 20% 0 20% 0\">\n",
    "            <h3>{title}</h3>\n",
    "            {svg_content}\n",
    "        </div>\n",
    "        \"\"\"\n",
    "\n",
    "    html += \"</div>\"\n",
    "    display(HTML(html))\n",
    "\n",
    "\n",
    "# Display the three toxin structures side by side\n",
    "display_svg_files([cobra_out, krait_out, snake_out], titles=[\"Cobra\", \"Krait\", \"Snake\"])"
   ]
  }
 ],
 "metadata": {
  "kernelspec": {
   "display_name": ".venv",
   "language": "python",
   "name": "python3"
  },
  "language_info": {
   "codemirror_mode": {
    "name": "ipython",
    "version": 3
   },
   "file_extension": ".py",
   "mimetype": "text/x-python",
   "name": "python",
   "nbconvert_exporter": "python",
   "pygments_lexer": "ipython3",
   "version": "3.12.9"
  }
 },
 "nbformat": 4,
 "nbformat_minor": 2
}
