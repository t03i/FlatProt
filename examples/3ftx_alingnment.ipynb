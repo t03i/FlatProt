{
 "cells": [
  {
   "cell_type": "code",
   "execution_count": 2,
   "metadata": {},
   "outputs": [],
   "source": [
    "from pathlib import Path\n",
    "import os\n",
    "from IPython import get_ipython\n",
    "from IPython.core.magic import register_cell_magic\n",
    "\n",
    "ipython = get_ipython()\n",
    "\n",
    "\n",
    "@register_cell_magic\n",
    "def pybash(line, cell):\n",
    "    ipython.run_cell_magic(\"bash\", \"\", cell.format(**globals()))"
   ]
  },
  {
   "cell_type": "code",
   "execution_count": 3,
   "metadata": {},
   "outputs": [],
   "source": [
    "tmp_dir = Path(\"../tmp/3ftx_alignment\")\n",
    "data_dir = Path(\"../data/3Ftx\")\n",
    "\n",
    "cobra_file = data_dir / \"cobra.cif\"\n",
    "krait_file = data_dir / \"krait.cif\"\n",
    "snake_file = data_dir / \"snake.cif\"\n",
    "\n",
    "\n",
    "os.makedirs(tmp_dir, exist_ok=True)"
   ]
  },
  {
   "cell_type": "markdown",
   "metadata": {},
   "source": [
    "## Commandline Usage\n"
   ]
  },
  {
   "cell_type": "code",
   "execution_count": 4,
   "metadata": {},
   "outputs": [],
   "source": [
    "cobra_path = str(cobra_file)\n",
    "cobra_matrix = str(tmp_dir / \"cobra_matrix.npy\")\n",
    "cobra_info = str(tmp_dir / \"cobra_info.json\")\n",
    "cobra_out = str(tmp_dir / \"cobra.svg\")\n",
    "\n",
    "krait_path = str(krait_file)\n",
    "krait_matrix = str(tmp_dir / \"krait_matrix.npy\")\n",
    "krait_info = str(tmp_dir / \"krait_info.json\")\n",
    "krait_out = str(tmp_dir / \"krait.svg\")\n",
    "\n",
    "snake_path = str(snake_file)\n",
    "snake_matrix = str(tmp_dir / \"snake_matrix.npy\")\n",
    "snake_info = str(tmp_dir / \"snake_info.json\")\n",
    "snake_out = str(tmp_dir / \"snake.svg\")\n",
    "\n",
    "db_path = str(Path(\"../out/alignment_db\"))\n",
    "min_p = 0.5\n"
   ]
  },
  {
   "cell_type": "code",
   "execution_count": 9,
   "metadata": {
    "vscode": {
     "languageId": "shellscript"
    }
   },
   "outputs": [
    {
     "name": "stdout",
     "output_type": "stream",
     "text": [
      "db_id: 3000545\n",
      "db_id: 3000545\n",
      "\u001b[2;36m2025-04-21 13:41:11\u001b[0m\u001b[2;36m \u001b[0m\u001b[34mINFO    \u001b[0m Using existing alignment database at               \n",
      "\u001b[2;36m                    \u001b[0m         ..\u001b[35m/out/\u001b[0m\u001b[95malignment_db\u001b[0m                                \n",
      "\u001b[2;36m2025-04-21 13:41:11\u001b[0m\u001b[2;36m \u001b[0m\u001b[34mINFO    \u001b[0m Aligning structure: snake.cif                      \n",
      "db_id: 3000545\n",
      "\u001b[2;36m2025-04-21 13:41:13\u001b[0m\u001b[2;36m \u001b[0m\u001b[34mINFO    \u001b[0m Saved rotation matrix to                           \n",
      "\u001b[2;36m                    \u001b[0m         ..\u001b[35m/tmp/3ftx_alignment/\u001b[0m\u001b[95msnake_matrix.npy\u001b[0m             \n",
      "\u001b[2;36m2025-04-21 13:41:13\u001b[0m\u001b[2;36m \u001b[0m\u001b[34mINFO    \u001b[0m Alignment completed successfully                   \n"
     ]
    }
   ],
   "source": [
    "%%pybash\n",
    "# Access Python variables in bash using curly braces\n",
    "\n",
    "uv run flatprot align {cobra_path} {cobra_matrix} {cobra_info} -d {db_path} --min-probability {min_p} --quiet\n",
    "uv run flatprot align {krait_path} {krait_matrix} {krait_info} -d {db_path} --min-probability {min_p} --quiet\n",
    "uv run flatprot align {snake_path} {snake_matrix} {snake_info} -d {db_path} --min-probability {min_p}\n"
   ]
  },
  {
   "cell_type": "code",
   "execution_count": 10,
   "metadata": {},
   "outputs": [],
   "source": [
    "%%pybash\n",
    "uv run flatprot project {cobra_path} -o {cobra_out} --matrix {cobra_matrix} --quiet\n",
    "uv run flatprot project {krait_path} -o {krait_out} --matrix {krait_matrix} --quiet\n",
    "uv run flatprot project {snake_path} -o {snake_out} --matrix {snake_matrix} --quiet\n"
   ]
  },
  {
   "cell_type": "code",
   "execution_count": 11,
   "metadata": {},
   "outputs": [
    {
     "data": {
      "text/html": [
       "<div style=\"display: flex; justify-content: space-between;\">\n",
       "        <div style=\"width: 30%; border: 1px solid black; text-align: center; border-radius: 20% 0 20% 0\">\n",
       "            <h3>Cobra</h3>\n",
       "            <?xml version=\"1.0\" encoding=\"UTF-8\"?>\n",
       "<svg style=\"width:100%; height:auto;\" xmlns=\"http://www.w3.org/2000/svg\" xmlns:xlink=\"http://www.w3.org/1999/xlink\"\n",
       "     width=\"1000\" height=\"1000\" viewBox=\"0 0 1000 1000\">\n",
       "<defs>\n",
       "</defs>\n",
       "<g id=\"flatprot-root\">\n",
       "<g id=\"flatprot-connections\" class=\"connections\">\n",
       "<path d=\"M844.35944,339.3427 L867.16235,421.14078\" id=\"connection-CoilSceneElement-A-1-1-SheetSceneElement-A-2-6\" stroke-width=\"1.0\" opacity=\"1.0\" stroke-linecap=\"round\" stroke-linejoin=\"round\" stroke=\"#5b5859\" class=\"connection\" />\n",
       "<path d=\"M635.4032,699.8777 L565.9965,758.0314\" id=\"connection-SheetSceneElement-A-2-6-CoilSceneElement-A-7-13\" stroke-width=\"1.0\" opacity=\"1.0\" stroke-linecap=\"round\" stroke-linejoin=\"round\" stroke=\"#5b5859\" class=\"connection\" />\n",
       "<path d=\"M754.0981,710.09534 L836.6939,688.27655\" id=\"connection-CoilSceneElement-A-7-13-SheetSceneElement-A-14-17\" stroke-width=\"1.0\" opacity=\"1.0\" stroke-linecap=\"round\" stroke-linejoin=\"round\" stroke=\"#5b5859\" class=\"connection\" />\n",
       "<path d=\"M882.01227,512.39374 L787.537,468.4339\" id=\"connection-SheetSceneElement-A-14-17-HelixSceneElement-A-18-19\" stroke-width=\"1.0\" opacity=\"1.0\" stroke-linecap=\"round\" stroke-linejoin=\"round\" stroke=\"#5b5859\" class=\"connection\" />\n",
       "<path d=\"M778.02765,477.1453 L774.9164,382.06436\" id=\"connection-HelixSceneElement-A-18-19-CoilSceneElement-A-20-23\" stroke-width=\"1.0\" opacity=\"1.0\" stroke-linecap=\"round\" stroke-linejoin=\"round\" stroke=\"#5b5859\" class=\"connection\" />\n",
       "<path d=\"M671.31085,295.30206 L624.69696,313.25458\" id=\"connection-CoilSceneElement-A-20-23-SheetSceneElement-A-24-30\" stroke-width=\"1.0\" opacity=\"1.0\" stroke-linecap=\"round\" stroke-linejoin=\"round\" stroke=\"#5b5859\" class=\"connection\" />\n",
       "<path d=\"M242.07217,630.71405 L146.36757,610.94464\" id=\"connection-SheetSceneElement-A-24-30-CoilSceneElement-A-31-37\" stroke-width=\"1.0\" opacity=\"1.0\" stroke-linecap=\"round\" stroke-linejoin=\"round\" stroke=\"#5b5859\" class=\"connection\" />\n",
       "<path d=\"M299.86792,692.55914 L359.26453,719.89044\" id=\"connection-CoilSceneElement-A-31-37-SheetSceneElement-A-38-44\" stroke-width=\"1.0\" opacity=\"1.0\" stroke-linecap=\"round\" stroke-linejoin=\"round\" stroke=\"#5b5859\" class=\"connection\" />\n",
       "<path d=\"M557.81177,435.12634 L530.6613,355.63214\" id=\"connection-SheetSceneElement-A-38-44-CoilSceneElement-A-45-45\" stroke-width=\"1.0\" opacity=\"1.0\" stroke-linecap=\"round\" stroke-linejoin=\"round\" stroke=\"#5b5859\" class=\"connection\" />\n",
       "<path d=\"M530.6613,355.63214 L480.3820495605469,259.4470520019531\" id=\"connection-CoilSceneElement-A-45-45-HelixSceneElement-A-46-54\" stroke-width=\"1.0\" opacity=\"1.0\" stroke-linecap=\"round\" stroke-linejoin=\"round\" stroke=\"#5b5859\" class=\"connection\" />\n",
       "<path d=\"M130.99716186523438,290.3504333496094 L71.6699,386.85745\" id=\"connection-HelixSceneElement-A-46-54-CoilSceneElement-A-55-59\" stroke-width=\"1.0\" opacity=\"1.0\" stroke-linecap=\"round\" stroke-linejoin=\"round\" stroke=\"#5b5859\" class=\"connection\" />\n",
       "<path d=\"M94.82614,578.23584 L198.73357,537.4861\" id=\"connection-CoilSceneElement-A-55-59-SheetSceneElement-A-60-65\" stroke-width=\"1.0\" opacity=\"1.0\" stroke-linecap=\"round\" stroke-linejoin=\"round\" stroke=\"#5b5859\" class=\"connection\" />\n",
       "<path d=\"M604.3424,229.7235 L684.8491,197.87395\" id=\"connection-SheetSceneElement-A-60-65-CoilSceneElement-A-66-72\" stroke-width=\"1.0\" opacity=\"1.0\" stroke-linecap=\"round\" stroke-linejoin=\"round\" stroke=\"#5b5859\" class=\"connection\" />\n",
       "</g>\n",
       "<g id=\"cobra_A\" transform=\"\">\n",
       "<path d=\"M 864.086669921875,418.58343505859375 L 870.238037109375,423.6981201171875 L 635.4031982421875,699.877685546875 Z\" stroke-width=\"1.0\" stroke-opacity=\"1.0\" stroke-linecap=\"round\" stroke-linejoin=\"round\" class=\"element sheet\" id=\"SheetSceneElement-A-2-6\" fill=\"#00f\" opacity=\"1.0\" stroke=\"#000\" />\n",
       "<path d=\"M 565.9965209960938,758.0313720703125 L 754.0980834960938,710.0953369140625\" stroke=\"#5b5859\" stroke-width=\"1.0\" fill=\"none\" stroke-linecap=\"round\" stroke-linejoin=\"round\" opacity=\"1.0\" class=\"element coil\" id=\"CoilSceneElement-A-7-13\" />\n",
       "<path d=\"M 840.5673828125,689.2745971679688 L 832.8204345703125,687.2785034179688 L 882.0122680664062,512.3937377929688 Z\" stroke-width=\"1.0\" stroke-opacity=\"1.0\" stroke-linecap=\"round\" stroke-linejoin=\"round\" class=\"element sheet\" id=\"SheetSceneElement-A-14-17\" fill=\"#00f\" opacity=\"1.0\" stroke=\"#000\" />\n",
       "<path d=\"M 787.5369873046875,468.43389892578125 L 778.0276489257812,477.1452941894531\" stroke-width=\"2\" stroke-opacity=\"1.0\" stroke-linecap=\"round\" stroke-linejoin=\"round\" class=\"element helix\" id=\"HelixSceneElement-A-18-19\" fill=\"none\" stroke=\"#f00\" opacity=\"1.0\" />\n",
       "<path d=\"M 774.9163818359375,382.0643615722656 L 671.3108520507812,295.30206298828125\" stroke=\"#5b5859\" stroke-width=\"1.0\" fill=\"none\" stroke-linecap=\"round\" stroke-linejoin=\"round\" opacity=\"1.0\" class=\"element coil\" id=\"CoilSceneElement-A-20-23\" />\n",
       "<path d=\"M 622.142822265625,310.1761779785156 L 627.2510986328125,316.3329772949219 L 242.07217407226562,630.7140502929688 Z\" stroke-width=\"1.0\" stroke-opacity=\"1.0\" stroke-linecap=\"round\" stroke-linejoin=\"round\" class=\"element sheet\" id=\"SheetSceneElement-A-24-30\" fill=\"#00f\" opacity=\"1.0\" stroke=\"#000\" />\n",
       "<path d=\"M 146.36756896972656,610.9446411132812 L 299.867919921875,692.5591430664062\" stroke=\"#5b5859\" stroke-width=\"1.0\" fill=\"none\" stroke-linecap=\"round\" stroke-linejoin=\"round\" opacity=\"1.0\" class=\"element coil\" id=\"CoilSceneElement-A-31-37\" />\n",
       "<path d=\"M 362.54571533203125,722.17822265625 L 355.98333740234375,717.6026611328125 L 557.811767578125,435.1263427734375 Z\" stroke-width=\"1.0\" stroke-opacity=\"1.0\" stroke-linecap=\"round\" stroke-linejoin=\"round\" class=\"element sheet\" id=\"SheetSceneElement-A-38-44\" fill=\"#00f\" opacity=\"1.0\" stroke=\"#000\" />\n",
       "<path d=\"M 480.0296221971512,255.46260786056519 L 475.30273178219795,258.8924082517624 L 469.7828797996044,253.35723984241486 L 465.32030990719795,259.775373339653 L 459.8004579246044,254.24017441272736 L 455.33788803219795,260.65833842754364 L 449.8180360496044,255.12313950061798 L 445.35546615719795,261.54127299785614 L 439.8356141746044,256.0061045885086 L 435.3730137646198,262.42423808574677 L 429.8531922996044,256.8890391588211 L 425.3905918896198,263.30717265605927 L 419.8707399070263,257.77200424671173 L 415.4081700146198,264.1901377439499 L 409.8883180320263,258.65493881702423 L 405.4257481396198,265.0731028318405 L 399.9058961570263,259.53790390491486 L 395.4433262646198,265.956037402153 L 389.9234742820263,260.4208689928055 L 385.4609043896198,266.83900249004364 L 379.9410524070263,261.303803563118 L 375.4784825146198,267.72196757793427 L 369.9586305320263,262.1867686510086 L 365.4960606396198,268.60490214824677 L 359.9762086570263,263.06973373889923 L 355.5136387646198,269.4878672361374 L 349.9937867820263,263.95266830921173 L 345.5312168896198,270.3708018064499 L 340.0113649070263,264.83563339710236 L 335.5487950146198,271.2537668943405 L 330.0289430320263,265.71856796741486 L 325.5663731396198,272.13673198223114 L 320.0465211570263,266.6015330553055 L 315.5839512646198,273.01966655254364 L 310.0640992820263,267.4844981431961 L 305.6015293896198,273.90263164043427 L 300.08164688944817,268.3674327135086 L 295.6190769970417,274.7855967283249 L 290.09922501444817,269.25039780139923 L 285.6366551220417,275.6685312986374 L 280.1168336570263,270.13336288928986 L 275.6542637646198,276.551496386528 L 270.13438126444817,271.01629745960236 L 265.6718113720417,277.4344309568405 L 260.15195938944817,271.899262547493 L 255.6893894970417,278.31739604473114 L 250.16953751444817,272.7821971178055 L 245.7069676220417,279.20036113262177 L 240.1871003806591,273.6651622056961 L 235.72453048825264,280.08329570293427 L 230.2046785056591,274.54812729358673 L 225.74210861325264,280.9662607908249 L 220.22227188944817,275.43106186389923 L 215.75967147946358,281.8492258787155 L 210.23985001444817,276.31402695178986 L 205.77724960446358,282.732160449028 L 200.25742813944817,277.19696152210236 L 195.79482772946358,283.61512553691864 L 190.27497574687004,278.079926609993 L 185.81240585446358,284.49806010723114 L 180.29255387187004,278.9628916978836 L 175.82998397946358,285.38102519512177 L 170.31013199687004,279.8458262681961 L 165.84756210446358,286.2639902830124 L 160.32771012187004,280.72879135608673 L 155.86514022946358,287.1469248533249 L 150.34528824687004,281.61175644397736 L 145.88271835446358,288.0298899412155 L 140.36286637187004,282.49469101428986 L 135.90029647946358,288.91285502910614 L 130.64473450183868,286.36598920822144 L 131.34958922863007,294.3348774909973 L 136.60515120625496,296.881743311882 L 141.06772109866142,290.46357929706573 L 146.58757308125496,295.9987782239914 L 151.05014297366142,289.58064472675323 L 156.56999495625496,295.11581313610077 L 161.03256484866142,288.6976796388626 L 166.55241683125496,294.23287856578827 L 171.01498672366142,287.814714550972 L 176.53483870625496,293.34991347789764 L 180.99740859866142,286.9317799806595 L 186.51726058125496,292.466948390007 L 190.97983047366142,286.04881489276886 L 196.49968245625496,291.5840138196945 L 200.96228286623955,285.16584980487823 L 206.48210433125496,290.7010487318039 L 210.94470474123955,284.28291523456573 L 216.46452620625496,289.8181141614914 L 220.92712661623955,283.3999501466751 L 226.44696334004402,288.93514907360077 L 230.90953323245049,282.5170155763626 L 236.42938521504402,288.05218398571014 L 240.89195510745049,281.634050488472 L 246.41182234883308,287.16924941539764 L 250.87439224123955,280.75108540058136 L 256.3942442238331,286.286284327507 L 260.85681411623955,279.86815083026886 L 266.3766660988331,285.4033192396164 L 270.83923599123955,278.98518574237823 L 276.3591184914112,284.5203846693039 L 280.8216883838177,278.10225117206573 L 286.3415098488331,283.63741958141327 L 290.80407974123955,277.2192860841751 L 296.3239317238331,282.75448501110077 L 300.78650161623955,276.3363209962845 L 306.3063841164112,281.87151992321014 L 310.7689540088177,275.453386425972 L 316.2888059914112,280.9885548353195 L 320.7513758838177,274.57042133808136 L 326.2712278664112,280.105620265007 L 330.7337977588177,273.68745625019073 L 336.2536497414112,279.2226551771164 L 340.7162196338177,272.80452167987823 L 346.2360716164112,278.33969008922577 L 350.6986415088177,271.9215565919876 L 356.2184934914112,277.45675551891327 L 360.6810633838177,271.0386220216751 L 366.2009153664112,276.57379043102264 L 370.6634852588177,270.1556569337845 L 376.1833372414112,275.69085586071014 L 380.6459071338177,269.27269184589386 L 386.1657591164112,274.8078907728195 L 390.6283290088177,268.38975727558136 L 396.1481809914112,273.9249256849289 L 400.6107508838177,267.50679218769073 L 406.1306028664112,273.0419911146164 L 410.5931727588177,266.6238270998001 L 416.1130247414112,272.15902602672577 L 420.5755946338177,265.7408925294876 L 426.0954466164112,271.27606093883514 L 430.5580470263958,264.857927441597 L 436.0778684914112,270.39312636852264 L 440.5404689013958,263.9749928712845 L 446.06032088398933,269.510161280632 L 450.5228907763958,263.09202778339386 L 456.04274275898933,268.6272267103195 L 460.5053126513958,262.20906269550323 L 466.02516463398933,267.7442616224289 L 470.4877345263958,261.32612812519073 L 476.00758650898933,266.86129653453827 L 480.73447692394257,263.43149614334106 Z\" stroke-width=\"1\" stroke-opacity=\"1.0\" stroke-linecap=\"round\" stroke-linejoin=\"round\" class=\"element helix\" id=\"HelixSceneElement-A-46-54\" fill=\"#f00\" opacity=\"1.0\" stroke=\"#000\" />\n",
       "<path d=\"M 71.6698989868164,386.8574523925781 L 94.82614135742188,578.23583984375\" stroke=\"#5b5859\" stroke-width=\"1.0\" fill=\"none\" stroke-linecap=\"round\" stroke-linejoin=\"round\" opacity=\"1.0\" class=\"element coil\" id=\"CoilSceneElement-A-55-59\" />\n",
       "<path d=\"M 201.1514129638672,540.672607421875 L 196.3157196044922,534.299560546875 L 604.3424072265625,229.72349548339844 Z\" stroke-width=\"1.0\" stroke-opacity=\"1.0\" stroke-linecap=\"round\" stroke-linejoin=\"round\" class=\"element sheet\" id=\"SheetSceneElement-A-60-65\" fill=\"#00f\" opacity=\"1.0\" stroke=\"#000\" />\n",
       "<path d=\"M 684.84912109375,197.8739471435547 L 685.1963500976562,420.5486145019531\" stroke=\"#5b5859\" stroke-width=\"1.0\" fill=\"none\" stroke-linecap=\"round\" stroke-linejoin=\"round\" opacity=\"1.0\" class=\"element coil\" id=\"CoilSceneElement-A-66-72\" />\n",
       "</g>\n",
       "</g>\n",
       "</svg>\n",
       "        </div>\n",
       "        \n",
       "        <div style=\"width: 30%; border: 1px solid black; text-align: center; border-radius: 20% 0 20% 0\">\n",
       "            <h3>Krait</h3>\n",
       "            <?xml version=\"1.0\" encoding=\"UTF-8\"?>\n",
       "<svg style=\"width:100%; height:auto;\" xmlns=\"http://www.w3.org/2000/svg\" xmlns:xlink=\"http://www.w3.org/1999/xlink\"\n",
       "     width=\"1000\" height=\"1000\" viewBox=\"0 0 1000 1000\">\n",
       "<defs>\n",
       "</defs>\n",
       "<g id=\"flatprot-root\">\n",
       "<g id=\"flatprot-connections\" class=\"connections\">\n",
       "<path d=\"M893.35645,839.5454 L949.1474609375,799.9840698242188\" id=\"connection-CoilSceneElement-A-1-2-HelixSceneElement-A-3-16\" stroke-width=\"1.0\" opacity=\"1.0\" stroke-linecap=\"round\" stroke-linejoin=\"round\" stroke=\"#5b5859\" class=\"connection\" />\n",
       "<path d=\"M650.6180419921875,786.1533813476562 L642.0763,694.65015\" id=\"connection-HelixSceneElement-A-3-16-CoilSceneElement-A-17-22\" stroke-width=\"1.0\" opacity=\"1.0\" stroke-linecap=\"round\" stroke-linejoin=\"round\" stroke=\"#5b5859\" class=\"connection\" />\n",
       "<path d=\"M473.02084,634.9699 L414.9244,667.0796\" id=\"connection-CoilSceneElement-A-17-22-SheetSceneElement-A-23-26\" stroke-width=\"1.0\" opacity=\"1.0\" stroke-linecap=\"round\" stroke-linejoin=\"round\" stroke=\"#5b5859\" class=\"connection\" />\n",
       "<path d=\"M419.31158,602.2868 L410.9251,566.3964\" id=\"connection-SheetSceneElement-A-23-26-CoilSceneElement-A-27-30\" stroke-width=\"1.0\" opacity=\"1.0\" stroke-linecap=\"round\" stroke-linejoin=\"round\" stroke=\"#5b5859\" class=\"connection\" />\n",
       "<path d=\"M298.57416,615.5699 L322.51212,705.2888\" id=\"connection-CoilSceneElement-A-27-30-SheetSceneElement-A-31-34\" stroke-width=\"1.0\" opacity=\"1.0\" stroke-linecap=\"round\" stroke-linejoin=\"round\" stroke=\"#5b5859\" class=\"connection\" />\n",
       "<path d=\"M496.33224,734.3878 L559.03546,656.66345\" id=\"connection-SheetSceneElement-A-31-34-HelixSceneElement-A-35-36\" stroke-width=\"1.0\" opacity=\"1.0\" stroke-linecap=\"round\" stroke-linejoin=\"round\" stroke=\"#5b5859\" class=\"connection\" />\n",
       "<path d=\"M658.52484,666.06683 L690.85925,656.37537\" id=\"connection-HelixSceneElement-A-35-36-CoilSceneElement-A-37-40\" stroke-width=\"1.0\" opacity=\"1.0\" stroke-linecap=\"round\" stroke-linejoin=\"round\" stroke=\"#5b5859\" class=\"connection\" />\n",
       "<path d=\"M545.3467,520.7231 L497.07117,449.6272\" id=\"connection-CoilSceneElement-A-37-40-SheetSceneElement-A-41-47\" stroke-width=\"1.0\" opacity=\"1.0\" stroke-linecap=\"round\" stroke-linejoin=\"round\" stroke=\"#5b5859\" class=\"connection\" />\n",
       "<path d=\"M388.91852,217.77211 L356.463,184.30952\" id=\"connection-SheetSceneElement-A-41-47-CoilSceneElement-A-48-51\" stroke-width=\"1.0\" opacity=\"1.0\" stroke-linecap=\"round\" stroke-linejoin=\"round\" stroke=\"#5b5859\" class=\"connection\" />\n",
       "<path d=\"M316.52603,247.16582 L271.46722412109375,217.21942138671875\" id=\"connection-CoilSceneElement-A-48-51-HelixSceneElement-A-52-55\" stroke-width=\"1.0\" opacity=\"1.0\" stroke-linecap=\"round\" stroke-linejoin=\"round\" stroke=\"#5b5859\" class=\"connection\" />\n",
       "<path d=\"M206.34988403320312,339.5810241699219 L202.72476,285.64548\" id=\"connection-HelixSceneElement-A-52-55-CoilSceneElement-A-56-56\" stroke-width=\"1.0\" opacity=\"1.0\" stroke-linecap=\"round\" stroke-linejoin=\"round\" stroke=\"#5b5859\" class=\"connection\" />\n",
       "<path d=\"M202.72476,285.64548 L281.055,273.33917\" id=\"connection-CoilSceneElement-A-56-56-HelixSceneElement-A-57-57\" stroke-width=\"1.0\" opacity=\"1.0\" stroke-linecap=\"round\" stroke-linejoin=\"round\" stroke=\"#5b5859\" class=\"connection\" />\n",
       "<path d=\"M281.055,273.33917 L355.90985,339.36453\" id=\"connection-HelixSceneElement-A-57-57-SheetSceneElement-A-58-64\" stroke-width=\"1.0\" opacity=\"1.0\" stroke-linecap=\"round\" stroke-linejoin=\"round\" stroke=\"#5b5859\" class=\"connection\" />\n",
       "<path d=\"M599.8671,450.0106 L655.20123,431.0778\" id=\"connection-SheetSceneElement-A-58-64-CoilSceneElement-A-65-66\" stroke-width=\"1.0\" opacity=\"1.0\" stroke-linecap=\"round\" stroke-linejoin=\"round\" stroke=\"#5b5859\" class=\"connection\" />\n",
       "<path d=\"M633.65717,332.52542 L553.2234497070312,289.42279052734375\" id=\"connection-CoilSceneElement-A-65-66-HelixSceneElement-A-67-70\" stroke-width=\"1.0\" opacity=\"1.0\" stroke-linecap=\"round\" stroke-linejoin=\"round\" stroke=\"#5b5859\" class=\"connection\" />\n",
       "<path d=\"M507.65924072265625,109.75701904296875 L530.1266,74.13357\" id=\"connection-HelixSceneElement-A-67-70-CoilSceneElement-A-71-73\" stroke-width=\"1.0\" opacity=\"1.0\" stroke-linecap=\"round\" stroke-linejoin=\"round\" stroke=\"#5b5859\" class=\"connection\" />\n",
       "<path d=\"M466.6419,75.93512 L416.7532,135.60945\" id=\"connection-CoilSceneElement-A-71-73-SheetSceneElement-A-74-80\" stroke-width=\"1.0\" opacity=\"1.0\" stroke-linecap=\"round\" stroke-linejoin=\"round\" stroke=\"#5b5859\" class=\"connection\" />\n",
       "<path d=\"M361.99124,383.1967 L393.1361,449.19565\" id=\"connection-SheetSceneElement-A-74-80-CoilSceneElement-A-81-87\" stroke-width=\"1.0\" opacity=\"1.0\" stroke-linecap=\"round\" stroke-linejoin=\"round\" stroke=\"#5b5859\" class=\"connection\" />\n",
       "</g>\n",
       "<g id=\"krait_A\" transform=\"\">\n",
       "<path d=\"M 963.3876342773438,906.2476806640625 L 893.3564453125,839.54541015625\" stroke=\"#5b5859\" stroke-width=\"1.0\" fill=\"none\" stroke-linecap=\"round\" stroke-linejoin=\"round\" opacity=\"1.0\" class=\"element coil\" id=\"CoilSceneElement-A-1-2\" />\n",
       "<path d=\"M 949.3325799554586,795.9883558750153 L 944.0467070005834,798.7466769814491 L 939.1772908009589,792.5146417021751 L 933.7525785826147,798.2697482705116 L 928.8831623829901,792.0377129912376 L 923.4584501646459,797.7928195595741 L 918.5890950001776,791.5607842803001 L 913.1643217466772,797.3158908486366 L 908.2949665822089,791.0839166045189 L 902.8701933287084,796.8390231728554 L 898.0008381642401,790.6069878935814 L 892.5760649107397,796.3620944619179 L 887.7067097462714,790.1300591826439 L 882.2819975279272,795.8851657509804 L 877.4125813283026,789.6531304717064 L 871.9878691099584,795.4082370400429 L 867.1184529103339,789.1762017607689 L 861.6937406919897,794.9313083291054 L 856.8243855275214,788.6992730498314 L 851.3996122740209,794.4543796181679 L 846.5302571095526,788.2223443388939 L 841.1054838560522,793.9774509072304 L 836.2361286915839,787.7454766631126 L 830.8114164732397,793.5005832314491 L 825.9420002736151,787.2685479521751 L 820.5172880552709,793.0236545205116 L 815.6479328908026,786.7916192412376 L 810.2231596373022,792.5467258095741 L 805.3537434376776,786.3146905303001 L 799.9290312193334,792.0697970986366 L 795.0596760548651,785.8377618193626 L 789.6349028013647,791.5928683876991 L 784.7655476368964,785.3608331084251 L 779.3408354185522,791.1159396767616 L 774.4714192189276,784.8839043974876 L 769.0467070005834,790.6390109658241 L 764.1772908009589,784.4070367217064 L 758.7525785826147,790.1621432900429 L 753.8831623829901,783.9301080107689 L 748.4584501646459,789.6852145791054 L 743.5890950001776,783.4531792998314 L 738.1643217466772,789.2082858681679 L 733.2949665822089,782.9762505888939 L 727.8702543638647,788.7313571572304 L 723.0008381642401,782.4993218779564 L 717.5760649107397,788.2544284462929 L 712.7067097462714,782.0223931670189 L 707.2819975279272,787.7774997353554 L 702.4125813283026,781.5454644560814 L 696.9878691099584,787.3005710244179 L 692.1185139454901,781.0685357451439 L 686.6937406919897,786.8237033486366 L 681.8243855275214,780.5916680693626 L 676.3996122740209,786.3467746376991 L 671.5302571095526,780.1147393584251 L 666.1054838560522,785.8698459267616 L 661.2361286915839,779.6378106474876 L 655.8114164732397,785.3929172158241 L 650.8031610101461,782.1576673984528 L 650.4329229742289,790.1490952968597 L 655.4411784373224,793.3843451142311 L 660.8658906556666,787.6292385458946 L 665.7352458201349,793.8612738251686 L 671.1600190736353,788.1061672568321 L 676.0293742381036,794.3382025361061 L 681.4541474916041,788.5830959677696 L 686.3235026560724,794.8151312470436 L 691.7482759095728,789.0599636435509 L 696.6176310740411,795.2919989228249 L 702.0423432923853,789.5368923544884 L 706.9117594920099,795.7689276337624 L 712.3364717103541,790.0138210654259 L 717.2058268748224,796.2458563446999 L 722.6306001283228,790.4907497763634 L 727.5000163279474,796.7227850556374 L 732.9247285462916,790.9676784873009 L 737.7940837107599,797.1997137665749 L 743.2188569642603,791.4446071982384 L 748.0882121287286,797.6766424775124 L 753.5129243470728,791.9215359091759 L 758.3823405466974,798.1535711884499 L 763.8070527650416,792.3984646201134 L 768.6764689646661,798.6304388642311 L 774.1011811830103,792.8753322958946 L 778.9705973826349,799.1073675751686 L 784.3953096009791,793.3522610068321 L 789.2646647654474,799.5842962861061 L 794.6894380189478,793.8291897177696 L 799.5587931834161,800.0612249970436 L 804.9835054017603,794.3061184287071 L 809.8529216013849,800.5381537079811 L 815.2776948548853,794.7830471396446 L 820.1470500193536,801.0150824189186 L 825.5717622376978,795.2599758505821 L 830.4411784373224,801.4920111298561 L 835.8658906556666,795.7369045615196 L 840.7352458201349,801.9688788056374 L 846.1600190736353,796.2137722373009 L 851.0293742381036,802.4458075165749 L 856.4541474916041,796.6907009482384 L 861.3235026560724,802.9227362275124 L 866.7482148744166,797.1676296591759 L 871.6176310740411,803.3996649384499 L 877.0423432923853,797.6445583701134 L 881.9117594920099,803.8765936493874 L 887.3364717103541,798.1214870810509 L 892.2058268748224,804.3535223603249 L 897.6306001283228,798.5984157919884 L 902.4999552927911,804.8304510712624 L 907.9247285462916,799.0753445029259 L 912.7940837107599,805.3073187470436 L 918.2188569642603,799.5522121787071 L 923.0882121287286,805.7842474579811 L 928.5129243470728,800.0291408896446 L 933.3823405466974,806.2611761689186 L 938.8070527650416,800.5060696005821 L 943.6764689646661,806.7381048798561 L 948.9623419195414,803.9797837734222 Z\" stroke-width=\"1\" stroke-opacity=\"1.0\" stroke-linecap=\"round\" stroke-linejoin=\"round\" class=\"element helix\" id=\"HelixSceneElement-A-3-16\" fill=\"#f00\" opacity=\"1.0\" stroke=\"#000\" />\n",
       "<path d=\"M 642.0762939453125,694.650146484375 L 473.0208435058594,634.9699096679688\" stroke=\"#5b5859\" stroke-width=\"1.0\" fill=\"none\" stroke-linecap=\"round\" stroke-linejoin=\"round\" opacity=\"1.0\" class=\"element coil\" id=\"CoilSceneElement-A-17-22\" />\n",
       "<path d=\"M 418.915283203125,667.3497924804688 L 410.93353271484375,666.8093872070312 L 419.31158447265625,602.2868041992188 Z\" stroke-width=\"1.0\" stroke-opacity=\"1.0\" stroke-linecap=\"round\" stroke-linejoin=\"round\" class=\"element sheet\" id=\"SheetSceneElement-A-23-26\" fill=\"#00f\" opacity=\"1.0\" stroke=\"#000\" />\n",
       "<path d=\"M 410.92510986328125,566.3964233398438 L 298.57415771484375,615.5698852539062\" stroke=\"#5b5859\" stroke-width=\"1.0\" fill=\"none\" stroke-linecap=\"round\" stroke-linejoin=\"round\" opacity=\"1.0\" class=\"element coil\" id=\"CoilSceneElement-A-27-30\" />\n",
       "<path d=\"M 321.8516845703125,709.2339477539062 L 323.17254638671875,701.3436889648438 L 496.3322448730469,734.3878173828125 Z\" stroke-width=\"1.0\" stroke-opacity=\"1.0\" stroke-linecap=\"round\" stroke-linejoin=\"round\" class=\"element sheet\" id=\"SheetSceneElement-A-31-34\" fill=\"#00f\" opacity=\"1.0\" stroke=\"#000\" />\n",
       "<path d=\"M 559.0354614257812,656.6634521484375 L 658.5248413085938,666.0668334960938\" stroke-width=\"2\" stroke-opacity=\"1.0\" stroke-linecap=\"round\" stroke-linejoin=\"round\" class=\"element helix\" id=\"HelixSceneElement-A-35-36\" fill=\"none\" stroke=\"#f00\" opacity=\"1.0\" />\n",
       "<path d=\"M 690.8592529296875,656.3753662109375 L 545.3466796875,520.7230834960938\" stroke=\"#5b5859\" stroke-width=\"1.0\" fill=\"none\" stroke-linecap=\"round\" stroke-linejoin=\"round\" opacity=\"1.0\" class=\"element coil\" id=\"CoilSceneElement-A-37-40\" />\n",
       "<path d=\"M 500.6961669921875,447.9362487792969 L 493.4461669921875,451.3181457519531 L 388.91851806640625,217.77210998535156 Z\" stroke-width=\"1.0\" stroke-opacity=\"1.0\" stroke-linecap=\"round\" stroke-linejoin=\"round\" class=\"element sheet\" id=\"SheetSceneElement-A-41-47\" fill=\"#00f\" opacity=\"1.0\" stroke=\"#000\" />\n",
       "<path d=\"M 356.4630126953125,184.3095245361328 L 316.5260314941406,247.1658172607422\" stroke=\"#5b5859\" stroke-width=\"1.0\" fill=\"none\" stroke-linecap=\"round\" stroke-linejoin=\"round\" opacity=\"1.0\" class=\"element coil\" id=\"CoilSceneElement-A-48-51\" />\n",
       "<path d=\"M 267.9361102581024,215.3402637243271 L 268.0799290537834,221.45585450530052 L 260.2787416577339,223.34332528710365 L 263.0708958506584,230.86828431487083 L 255.26970845460892,232.75575509667397 L 258.06189316511154,240.28069886565208 L 250.26070576906204,242.16818490624428 L 253.05285996198654,249.69314393401146 L 245.25167256593704,251.5806147158146 L 248.04382675886154,259.1055584847927 L 240.24263936281204,260.99302926659584 L 243.0348088145256,268.5180035531521 L 235.2336214184761,270.4054743349552 L 238.0257756114006,277.93041810393333 L 230.2245882153511,279.8179194033146 L 233.01675766706467,287.3428631722927 L 225.21557027101517,289.23033395409584 L 228.00772446393967,296.7553082406521 L 220.20653706789017,298.6427485048771 L 222.99870651960373,306.16772279143333 L 215.19751912355423,308.05519357323647 L 217.98967331647873,315.5801373422146 L 210.18848592042923,317.46763864159584 L 212.9806553721428,324.99258241057396 L 205.1794679760933,326.8800531923771 L 207.9716221690178,334.40502747893333 L 202.8187701702118,337.7018665075302 L 209.88099789619446,341.46018183231354 L 215.03384989500046,338.16334280371666 L 212.24169570207596,330.6383685171604 L 220.04288309812546,328.7508977353573 L 217.2507136464119,321.22595396637917 L 225.0519010424614,319.3384526669979 L 222.2597468495369,311.8135088980198 L 230.0609342455864,309.92603811621666 L 227.26876479387283,302.4010638296604 L 235.06995218992233,300.5136235654354 L 232.27779799699783,292.98864927887917 L 240.07898539304733,291.10117849707603 L 237.28681594133377,283.5762347280979 L 245.08800333738327,281.68873342871666 L 242.29584914445877,274.16378965973854 L 250.09703654050827,272.2763188779354 L 247.3048670887947,264.75134459137917 L 255.1060544848442,262.86387380957603 L 252.3139002919197,255.33893004059792 L 260.1150876879692,253.45145925879478 L 257.3229334950447,245.9265002310276 L 265.1241208910942,244.0390141904354 L 262.3319361805916,236.5140704214573 L 270.1331235766411,234.62659963965416 L 267.3409693837166,227.10164061188698 L 275.1421567797661,225.21416983008385 L 274.9983379840851,219.0985790491104 Z\" stroke-width=\"1\" stroke-opacity=\"1.0\" stroke-linecap=\"round\" stroke-linejoin=\"round\" class=\"element helix\" id=\"HelixSceneElement-A-52-55\" fill=\"#f00\" opacity=\"1.0\" stroke=\"#000\" />\n",
       "<path d=\"M 354.2576599121094,343.0073547363281 L 357.5620422363281,335.7217102050781 L 599.8671264648438,450.0105895996094 Z\" stroke-width=\"1.0\" stroke-opacity=\"1.0\" stroke-linecap=\"round\" stroke-linejoin=\"round\" class=\"element sheet\" id=\"SheetSceneElement-A-58-64\" fill=\"#00f\" opacity=\"1.0\" stroke=\"#000\" />\n",
       "<path d=\"M 655.2012329101562,431.0777893066406 L 633.6571655273438,332.5254211425781\" stroke=\"#5b5859\" stroke-width=\"1.0\" fill=\"none\" stroke-linecap=\"round\" stroke-linejoin=\"round\" opacity=\"1.0\" class=\"element coil\" id=\"CoilSceneElement-A-65-66\" />\n",
       "<path d=\"M 557.1007082462311,288.4394968152046 L 552.927078306675,284.18624444305897 L 557.4772800803185,277.7205812186003 L 550.3957672715187,274.2048296481371 L 554.9459690451622,267.7391664236784 L 547.8643952012062,264.2233843356371 L 552.4145969748497,257.7577211111784 L 545.33308416605,254.24195428192616 L 549.8832859396935,247.77630631625652 L 542.8017120957375,244.26052422821522 L 547.351913869381,237.79486100375652 L 540.270340025425,234.27909417450428 L 544.8206028342247,227.81343095004559 L 537.7390289902687,224.29766412079334 L 542.2892307639122,217.83200089633465 L 535.2076569199562,214.31621880829334 L 539.757919728756,207.8505708426237 L 532.6763458848,204.33480401337147 L 537.2265476584435,197.86914078891277 L 530.1449738144875,194.35335870087147 L 534.695175588131,187.88769547641277 L 527.6136627793312,184.37192864716053 L 532.1638645529747,177.9062806814909 L 525.0822907090187,174.3904985934496 L 529.6324924826622,167.9248353689909 L 522.5509796738625,164.4090532809496 L 527.101181447506,157.94342057406902 L 520.01960760355,154.42763848602772 L 524.5698093771935,147.96197526156902 L 517.4882355332375,144.44620843231678 L 522.0384983420372,137.98054520785809 L 514.9569244980812,134.46477837860584 L 519.5071262717247,127.99911515414715 L 512.4255524277687,124.48333306610584 L 516.9757847189903,118.01768510043621 L 509.89424139261246,114.5019030123949 L 511.5364992618561,108.77372533082962 L 503.7819821834564,110.74031275510788 L 502.1397243142128,116.46849043667316 L 509.22126764059067,119.98427252471447 L 504.67103534936905,126.4499204903841 L 511.75260919332504,129.9657025784254 L 507.20240741968155,136.4313658028841 L 514.2839812636375,139.94713263213634 L 509.7337184548378,146.41279585659504 L 516.8152922987938,149.92856268584728 L 512.2650905251503,156.39422591030598 L 519.3466643691063,159.91000799834728 L 514.7964625954628,166.37564070522785 L 521.8779754042625,169.89142279326916 L 517.327773630619,176.35708601772785 L 524.409347474575,179.87286810576916 L 519.8591457009315,186.3385160714388 L 526.9406585097313,189.85428290069103 L 522.3904567360878,196.31994612514973 L 529.4720305800438,199.83572821319103 L 524.9218288064003,206.30139143764973 L 532.0034026503563,209.81715826690197 L 527.4531398415565,216.2828062325716 L 534.5347136855125,219.7985883206129 L 529.984511911869,226.2642515450716 L 537.066085755825,229.78001837432384 L 532.5158229470253,236.24568159878254 L 539.5973967909813,239.76144842803478 L 535.0471950173378,246.22711165249348 L 542.1287688612938,249.74289374053478 L 537.5785670876503,256.2085417062044 L 544.66007989645,259.72430853545666 L 540.1098781228065,266.18997175991535 L 547.1914519667625,269.70575384795666 L 542.641250193119,276.17141707241535 L 549.7227630019188,279.68716864287853 L 545.1725612282753,286.1528318673372 L 549.3461911678314,290.4060842394829 Z\" stroke-width=\"1\" stroke-opacity=\"1.0\" stroke-linecap=\"round\" stroke-linejoin=\"round\" class=\"element helix\" id=\"HelixSceneElement-A-67-70\" fill=\"#f00\" opacity=\"1.0\" stroke=\"#000\" />\n",
       "<path d=\"M 530.1265869140625,74.1335678100586 L 482.43731689453125,6.2476911544799805 L 466.64190673828125,75.93511962890625\" stroke=\"#5b5859\" stroke-width=\"1.0\" fill=\"none\" stroke-linecap=\"round\" stroke-linejoin=\"round\" opacity=\"1.0\" class=\"element coil\" id=\"CoilSceneElement-A-71-73\" />\n",
       "<path d=\"M 412.84759521484375,134.74560546875 L 420.6588134765625,136.47329711914062 L 361.9912414550781,383.1966857910156 Z\" stroke-width=\"1.0\" stroke-opacity=\"1.0\" stroke-linecap=\"round\" stroke-linejoin=\"round\" class=\"element sheet\" id=\"SheetSceneElement-A-74-80\" fill=\"#00f\" opacity=\"1.0\" stroke=\"#000\" />\n",
       "<path d=\"M 393.1361083984375,449.1956481933594 L 214.1950225830078,469.1812744140625\" stroke=\"#5b5859\" stroke-width=\"1.0\" fill=\"none\" stroke-linecap=\"round\" stroke-linejoin=\"round\" opacity=\"1.0\" class=\"element coil\" id=\"CoilSceneElement-A-81-87\" />\n",
       "</g>\n",
       "</g>\n",
       "</svg>\n",
       "        </div>\n",
       "        </div>"
      ],
      "text/plain": [
       "<IPython.core.display.HTML object>"
      ]
     },
     "metadata": {},
     "output_type": "display_data"
    }
   ],
   "source": [
    "# Display the three generated SVGs next to each other\n",
    "from IPython.display import display, HTML\n",
    "\n",
    "\n",
    "def display_svg_files(svg_files, titles=None, width=\"30%\"):\n",
    "    \"\"\"\n",
    "    Display multiple SVG files side by side.\n",
    "\n",
    "    Args:\n",
    "        svg_files: List of paths to SVG files\n",
    "        titles: Optional list of titles for each SVG\n",
    "        width: Width of each SVG (as CSS value)\n",
    "    \"\"\"\n",
    "    if titles is None:\n",
    "        titles = [f\"SVG {i + 1}\" for i in range(len(svg_files))]\n",
    "\n",
    "    html = '<div style=\"display: flex; justify-content: space-between;\">'\n",
    "\n",
    "    for i, (svg_file, title) in enumerate(zip(svg_files, titles)):\n",
    "        with open(svg_file, \"r\") as f:\n",
    "            svg_content = f.read()\n",
    "\n",
    "        # Modify SVG to constrain its width\n",
    "        svg_content = svg_content.replace(\n",
    "            \"<svg \", f'<svg style=\"width:100%; height:auto;\" '\n",
    "        )\n",
    "\n",
    "        html += f\"\"\"\n",
    "        <div style=\"width: {width}; border: 1px solid black; text-align: center; border-radius: 20% 0 20% 0\">\n",
    "            <h3>{title}</h3>\n",
    "            {svg_content}\n",
    "        </div>\n",
    "        \"\"\"\n",
    "\n",
    "    html += \"</div>\"\n",
    "    display(HTML(html))\n",
    "\n",
    "\n",
    "# Display the three toxin structures side by side\n",
    "display_svg_files(\n",
    "    [\n",
    "        cobra_out,\n",
    "        krait_out,\n",
    "        snake_out,\n",
    "    ],\n",
    "    titles=[\"Cobra\", \"Krait\", \"Snake\"],\n",
    ")"
   ]
  }
 ],
 "metadata": {
  "kernelspec": {
   "display_name": ".venv",
   "language": "python",
   "name": "python3"
  },
  "language_info": {
   "codemirror_mode": {
    "name": "ipython",
    "version": 3
   },
   "file_extension": ".py",
   "mimetype": "text/x-python",
   "name": "python",
   "nbconvert_exporter": "python",
   "pygments_lexer": "ipython3",
   "version": "3.12.10"
  }
 },
 "nbformat": 4,
 "nbformat_minor": 2
}
